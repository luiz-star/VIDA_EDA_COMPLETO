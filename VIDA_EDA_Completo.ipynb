{
  "cells": [
    {
      "cell_type": "markdown",
      "metadata": {
        "id": "view-in-github",
        "colab_type": "text"
      },
      "source": [
        "<a href=\"https://colab.research.google.com/github/luiz-star/VIDA_EDA_COMPLETO/blob/main/VIDA_EDA_Completo.ipynb\" target=\"_parent\"><img src=\"https://colab.research.google.com/assets/colab-badge.svg\" alt=\"Open In Colab\"/></a>"
      ]
    },
    {
      "cell_type": "markdown",
      "id": "1d146ecd",
      "metadata": {
        "id": "1d146ecd"
      },
      "source": [
        "# <font color='green'>VIDA_EDA_Completo</font>"
      ]
    },
    {
      "cell_type": "markdown",
      "id": "48caadbe",
      "metadata": {
        "id": "48caadbe"
      },
      "source": [
        "## Análise Exploratória de Dados em Python"
      ]
    },
    {
      "cell_type": "markdown",
      "id": "9ff2f932",
      "metadata": {
        "id": "9ff2f932"
      },
      "source": [
        "## Visão Geral\n",
        "\n",
        "* Entendendo como o EDA é feito em Pyhton\n",
        "* Várias etapas envolvidas na Análise Exploratória de Dados\n",
        "* Executando EDA emum determinado conjunto de Dados"
      ]
    },
    {
      "cell_type": "markdown",
      "id": "0e478b5e",
      "metadata": {
        "id": "0e478b5e"
      },
      "source": [
        "## Introdução\n",
        "\n",
        "A análise exploratória de dados popularmente conhecida como EDA é um processo de realizar algumas investigações iniciais no conjunto de dados para descobrir a estrutura e o conteúdo do conjunto de dados fornecido. É muitas vezes conhecido como Data Profiling . É uma etapa inevitável em toda a jornada de análise de dados desde a parte de entendimento do negócio até a implantação dos modelos criados.\n",
        "\n",
        "A EDA é onde obtemos o entendimento básico dos dados em mãos, o que nos ajuda no processo posterior de Limpeza de Dados e Preparação de Dados .\n",
        "\n",
        "Estaremos cobrindo uma ampla gama de tópicos sob EDA, desde a exploração básica de dados (baseada em estrutura) até a normalização e padronização dos dados.\n",
        "\n"
      ]
    },
    {
      "cell_type": "markdown",
      "id": "5b16ab99",
      "metadata": {
        "id": "5b16ab99"
      },
      "source": [
        "## Indice\n",
        "\n",
        "* Apresentando o conjunto de dados\n",
        "\n",
        "* Importando as Bibliotecas Python\n",
        "\n",
        "* Carregando o conjunto de dados em Python\n",
        "\n",
        "* Exploração de dados com base estruturada\n",
        "\n",
        "* Manipulação de duplicatas\n",
        "\n",
        "* Lidando com valores atípicos\n",
        "\n",
        "* Como lidar com valores ausentes\n",
        "\n",
        "* Análise Univariada\n",
        "\n",
        "* Análise bivariada"
      ]
    },
    {
      "cell_type": "markdown",
      "id": "9a08634e",
      "metadata": {
        "id": "9a08634e"
      },
      "source": [
        "## Apresentando o Conjunto de Dados\n",
        "\n",
        "Usaremos o conjunto de dados da Black Friday , que pode ser baixado em : https://www.kaggle.com/sdolezel/black-friday?select=train.csv.\n",
        "\n",
        "Caso preferir o conjunto de Dados estará em anexo com este script na plataforma"
      ]
    },
    {
      "cell_type": "code",
      "execution_count": null,
      "id": "c0471b60",
      "metadata": {
        "id": "c0471b60"
      },
      "outputs": [],
      "source": [
        "#Importando as Bibliotecas\n",
        "\n",
        "import numpy as np\n",
        "import pandas as pd\n",
        "import matplotlib.pyplot as plt\n",
        "%matplotlib inline\n",
        "import seaborn as sns"
      ]
    },
    {
      "cell_type": "code",
      "execution_count": null,
      "id": "90b0f20c",
      "metadata": {
        "id": "90b0f20c"
      },
      "outputs": [],
      "source": [
        "# Carregando o Dataset\n",
        "\n",
        "df = pd.read_csv(\"D:/raiz/VIDA/dados/train.csv\")"
      ]
    },
    {
      "cell_type": "markdown",
      "id": "37a92b51",
      "metadata": {
        "id": "37a92b51"
      },
      "source": [
        "##  Exploração de dados com base estruturada\n",
        "\n",
        "É o primeiro passo no EDA, que também pode ser chamado de Entendendo os Metadados ! Isso mesmo, 'Dados sobre os Dados'.\n",
        "\n",
        "É aqui que obtemos a descrição dos dados que temos em nosso Dataframe"
      ]
    },
    {
      "cell_type": "code",
      "execution_count": null,
      "id": "7f89bef1",
      "metadata": {
        "id": "7f89bef1",
        "outputId": "f6824b50-9a34-4c52-aa79-0597a511d8f6"
      },
      "outputs": [
        {
          "data": {
            "text/html": [
              "<div>\n",
              "<style scoped>\n",
              "    .dataframe tbody tr th:only-of-type {\n",
              "        vertical-align: middle;\n",
              "    }\n",
              "\n",
              "    .dataframe tbody tr th {\n",
              "        vertical-align: top;\n",
              "    }\n",
              "\n",
              "    .dataframe thead th {\n",
              "        text-align: right;\n",
              "    }\n",
              "</style>\n",
              "<table border=\"1\" class=\"dataframe\">\n",
              "  <thead>\n",
              "    <tr style=\"text-align: right;\">\n",
              "      <th></th>\n",
              "      <th>User_ID</th>\n",
              "      <th>Product_ID</th>\n",
              "      <th>Gender</th>\n",
              "      <th>Age</th>\n",
              "      <th>Occupation</th>\n",
              "      <th>City_Category</th>\n",
              "      <th>Stay_In_Current_City_Years</th>\n",
              "      <th>Marital_Status</th>\n",
              "      <th>Product_Category_1</th>\n",
              "      <th>Product_Category_2</th>\n",
              "      <th>Product_Category_3</th>\n",
              "      <th>Purchase</th>\n",
              "    </tr>\n",
              "  </thead>\n",
              "  <tbody>\n",
              "    <tr>\n",
              "      <th>0</th>\n",
              "      <td>1000001</td>\n",
              "      <td>P00069042</td>\n",
              "      <td>F</td>\n",
              "      <td>0-17</td>\n",
              "      <td>10</td>\n",
              "      <td>A</td>\n",
              "      <td>2</td>\n",
              "      <td>0</td>\n",
              "      <td>3</td>\n",
              "      <td>NaN</td>\n",
              "      <td>NaN</td>\n",
              "      <td>8370</td>\n",
              "    </tr>\n",
              "    <tr>\n",
              "      <th>1</th>\n",
              "      <td>1000001</td>\n",
              "      <td>P00248942</td>\n",
              "      <td>F</td>\n",
              "      <td>0-17</td>\n",
              "      <td>10</td>\n",
              "      <td>A</td>\n",
              "      <td>2</td>\n",
              "      <td>0</td>\n",
              "      <td>1</td>\n",
              "      <td>6.0</td>\n",
              "      <td>14.0</td>\n",
              "      <td>15200</td>\n",
              "    </tr>\n",
              "    <tr>\n",
              "      <th>2</th>\n",
              "      <td>1000001</td>\n",
              "      <td>P00087842</td>\n",
              "      <td>F</td>\n",
              "      <td>0-17</td>\n",
              "      <td>10</td>\n",
              "      <td>A</td>\n",
              "      <td>2</td>\n",
              "      <td>0</td>\n",
              "      <td>12</td>\n",
              "      <td>NaN</td>\n",
              "      <td>NaN</td>\n",
              "      <td>1422</td>\n",
              "    </tr>\n",
              "    <tr>\n",
              "      <th>3</th>\n",
              "      <td>1000001</td>\n",
              "      <td>P00085442</td>\n",
              "      <td>F</td>\n",
              "      <td>0-17</td>\n",
              "      <td>10</td>\n",
              "      <td>A</td>\n",
              "      <td>2</td>\n",
              "      <td>0</td>\n",
              "      <td>12</td>\n",
              "      <td>14.0</td>\n",
              "      <td>NaN</td>\n",
              "      <td>1057</td>\n",
              "    </tr>\n",
              "    <tr>\n",
              "      <th>4</th>\n",
              "      <td>1000002</td>\n",
              "      <td>P00285442</td>\n",
              "      <td>M</td>\n",
              "      <td>55+</td>\n",
              "      <td>16</td>\n",
              "      <td>C</td>\n",
              "      <td>4+</td>\n",
              "      <td>0</td>\n",
              "      <td>8</td>\n",
              "      <td>NaN</td>\n",
              "      <td>NaN</td>\n",
              "      <td>7969</td>\n",
              "    </tr>\n",
              "  </tbody>\n",
              "</table>\n",
              "</div>"
            ],
            "text/plain": [
              "   User_ID Product_ID Gender   Age  Occupation City_Category  \\\n",
              "0  1000001  P00069042      F  0-17          10             A   \n",
              "1  1000001  P00248942      F  0-17          10             A   \n",
              "2  1000001  P00087842      F  0-17          10             A   \n",
              "3  1000001  P00085442      F  0-17          10             A   \n",
              "4  1000002  P00285442      M   55+          16             C   \n",
              "\n",
              "  Stay_In_Current_City_Years  Marital_Status  Product_Category_1  \\\n",
              "0                          2               0                   3   \n",
              "1                          2               0                   1   \n",
              "2                          2               0                  12   \n",
              "3                          2               0                  12   \n",
              "4                         4+               0                   8   \n",
              "\n",
              "   Product_Category_2  Product_Category_3  Purchase  \n",
              "0                 NaN                 NaN      8370  \n",
              "1                 6.0                14.0     15200  \n",
              "2                 NaN                 NaN      1422  \n",
              "3                14.0                 NaN      1057  \n",
              "4                 NaN                 NaN      7969  "
            ]
          },
          "execution_count": 4,
          "metadata": {},
          "output_type": "execute_result"
        }
      ],
      "source": [
        "# Exibindo as primeiras 5 Observações\n",
        "df.head()"
      ]
    },
    {
      "cell_type": "code",
      "execution_count": null,
      "id": "5c94fe21",
      "metadata": {
        "id": "5c94fe21",
        "outputId": "979cdd75-b780-4be6-dd2b-4c4234382ac9"
      },
      "outputs": [
        {
          "data": {
            "text/html": [
              "<div>\n",
              "<style scoped>\n",
              "    .dataframe tbody tr th:only-of-type {\n",
              "        vertical-align: middle;\n",
              "    }\n",
              "\n",
              "    .dataframe tbody tr th {\n",
              "        vertical-align: top;\n",
              "    }\n",
              "\n",
              "    .dataframe thead th {\n",
              "        text-align: right;\n",
              "    }\n",
              "</style>\n",
              "<table border=\"1\" class=\"dataframe\">\n",
              "  <thead>\n",
              "    <tr style=\"text-align: right;\">\n",
              "      <th></th>\n",
              "      <th>User_ID</th>\n",
              "      <th>Product_ID</th>\n",
              "      <th>Gender</th>\n",
              "      <th>Age</th>\n",
              "      <th>Occupation</th>\n",
              "      <th>City_Category</th>\n",
              "      <th>Stay_In_Current_City_Years</th>\n",
              "      <th>Marital_Status</th>\n",
              "      <th>Product_Category_1</th>\n",
              "      <th>Product_Category_2</th>\n",
              "      <th>Product_Category_3</th>\n",
              "      <th>Purchase</th>\n",
              "    </tr>\n",
              "  </thead>\n",
              "  <tbody>\n",
              "    <tr>\n",
              "      <th>550063</th>\n",
              "      <td>1006033</td>\n",
              "      <td>P00372445</td>\n",
              "      <td>M</td>\n",
              "      <td>51-55</td>\n",
              "      <td>13</td>\n",
              "      <td>B</td>\n",
              "      <td>1</td>\n",
              "      <td>1</td>\n",
              "      <td>20</td>\n",
              "      <td>NaN</td>\n",
              "      <td>NaN</td>\n",
              "      <td>368</td>\n",
              "    </tr>\n",
              "    <tr>\n",
              "      <th>550064</th>\n",
              "      <td>1006035</td>\n",
              "      <td>P00375436</td>\n",
              "      <td>F</td>\n",
              "      <td>26-35</td>\n",
              "      <td>1</td>\n",
              "      <td>C</td>\n",
              "      <td>3</td>\n",
              "      <td>0</td>\n",
              "      <td>20</td>\n",
              "      <td>NaN</td>\n",
              "      <td>NaN</td>\n",
              "      <td>371</td>\n",
              "    </tr>\n",
              "    <tr>\n",
              "      <th>550065</th>\n",
              "      <td>1006036</td>\n",
              "      <td>P00375436</td>\n",
              "      <td>F</td>\n",
              "      <td>26-35</td>\n",
              "      <td>15</td>\n",
              "      <td>B</td>\n",
              "      <td>4+</td>\n",
              "      <td>1</td>\n",
              "      <td>20</td>\n",
              "      <td>NaN</td>\n",
              "      <td>NaN</td>\n",
              "      <td>137</td>\n",
              "    </tr>\n",
              "    <tr>\n",
              "      <th>550066</th>\n",
              "      <td>1006038</td>\n",
              "      <td>P00375436</td>\n",
              "      <td>F</td>\n",
              "      <td>55+</td>\n",
              "      <td>1</td>\n",
              "      <td>C</td>\n",
              "      <td>2</td>\n",
              "      <td>0</td>\n",
              "      <td>20</td>\n",
              "      <td>NaN</td>\n",
              "      <td>NaN</td>\n",
              "      <td>365</td>\n",
              "    </tr>\n",
              "    <tr>\n",
              "      <th>550067</th>\n",
              "      <td>1006039</td>\n",
              "      <td>P00371644</td>\n",
              "      <td>F</td>\n",
              "      <td>46-50</td>\n",
              "      <td>0</td>\n",
              "      <td>B</td>\n",
              "      <td>4+</td>\n",
              "      <td>1</td>\n",
              "      <td>20</td>\n",
              "      <td>NaN</td>\n",
              "      <td>NaN</td>\n",
              "      <td>490</td>\n",
              "    </tr>\n",
              "  </tbody>\n",
              "</table>\n",
              "</div>"
            ],
            "text/plain": [
              "        User_ID Product_ID Gender    Age  Occupation City_Category  \\\n",
              "550063  1006033  P00372445      M  51-55          13             B   \n",
              "550064  1006035  P00375436      F  26-35           1             C   \n",
              "550065  1006036  P00375436      F  26-35          15             B   \n",
              "550066  1006038  P00375436      F    55+           1             C   \n",
              "550067  1006039  P00371644      F  46-50           0             B   \n",
              "\n",
              "       Stay_In_Current_City_Years  Marital_Status  Product_Category_1  \\\n",
              "550063                          1               1                  20   \n",
              "550064                          3               0                  20   \n",
              "550065                         4+               1                  20   \n",
              "550066                          2               0                  20   \n",
              "550067                         4+               1                  20   \n",
              "\n",
              "        Product_Category_2  Product_Category_3  Purchase  \n",
              "550063                 NaN                 NaN       368  \n",
              "550064                 NaN                 NaN       371  \n",
              "550065                 NaN                 NaN       137  \n",
              "550066                 NaN                 NaN       365  \n",
              "550067                 NaN                 NaN       490  "
            ]
          },
          "execution_count": 5,
          "metadata": {},
          "output_type": "execute_result"
        }
      ],
      "source": [
        "# Exibindo as Últimas 5 Observações\n",
        "df.tail()"
      ]
    },
    {
      "cell_type": "code",
      "execution_count": null,
      "id": "bc1ab676",
      "metadata": {
        "id": "bc1ab676",
        "outputId": "c64be7ea-e33c-403e-f0ff-22e673a0abf8"
      },
      "outputs": [
        {
          "data": {
            "text/plain": [
              "(550068, 12)"
            ]
          },
          "execution_count": 6,
          "metadata": {},
          "output_type": "execute_result"
        }
      ],
      "source": [
        "# Exibindo o número de variáveis e o número de Observações( LInhas e Colunas)\n",
        "df.shape"
      ]
    },
    {
      "cell_type": "code",
      "execution_count": null,
      "id": "5de62ccb",
      "metadata": {
        "id": "5de62ccb",
        "outputId": "954499cf-a58d-4f0c-e996-1dd326bfc83b"
      },
      "outputs": [
        {
          "data": {
            "text/plain": [
              "550068"
            ]
          },
          "execution_count": 14,
          "metadata": {},
          "output_type": "execute_result"
        }
      ],
      "source": [
        "# Exibindo apenas número de Observações (Linhas no Dataframe)\n",
        "df.shape[0]"
      ]
    },
    {
      "cell_type": "code",
      "execution_count": null,
      "id": "6571b8f3",
      "metadata": {
        "id": "6571b8f3",
        "outputId": "e64b87ba-44df-41af-a25a-f4e31ef7917d"
      },
      "outputs": [
        {
          "data": {
            "text/plain": [
              "12"
            ]
          },
          "execution_count": 8,
          "metadata": {},
          "output_type": "execute_result"
        }
      ],
      "source": [
        "#Exibindo apenas número de Variáveis (Colunas no Dataframe)\n",
        "df.shape[1]"
      ]
    },
    {
      "cell_type": "code",
      "execution_count": null,
      "id": "6e98d8a9",
      "metadata": {
        "id": "6e98d8a9",
        "outputId": "70a81569-936f-4b51-9266-63497653224f"
      },
      "outputs": [
        {
          "data": {
            "text/plain": [
              "User_ID                         int64\n",
              "Product_ID                     object\n",
              "Gender                         object\n",
              "Age                            object\n",
              "Occupation                      int64\n",
              "City_Category                  object\n",
              "Stay_In_Current_City_Years     object\n",
              "Marital_Status                  int64\n",
              "Product_Category_1              int64\n",
              "Product_Category_2            float64\n",
              "Product_Category_3            float64\n",
              "Purchase                        int64\n",
              "dtype: object"
            ]
          },
          "execution_count": 9,
          "metadata": {},
          "output_type": "execute_result"
        }
      ],
      "source": [
        "# Verificando os nomes das Variáveis e seus tipos de dados\n",
        "df.dtypes"
      ]
    },
    {
      "cell_type": "code",
      "execution_count": null,
      "id": "4a690892",
      "metadata": {
        "id": "4a690892",
        "outputId": "daf41844-7829-46d9-8290-1bb3a3f6e00d"
      },
      "outputs": [
        {
          "data": {
            "text/plain": [
              "User_ID                       550068\n",
              "Product_ID                    550068\n",
              "Gender                        550068\n",
              "Age                           550068\n",
              "Occupation                    550068\n",
              "City_Category                 550068\n",
              "Stay_In_Current_City_Years    550068\n",
              "Marital_Status                550068\n",
              "Product_Category_1            550068\n",
              "Product_Category_2            376430\n",
              "Product_Category_3            166821\n",
              "Purchase                      550068\n",
              "dtype: int64"
            ]
          },
          "execution_count": 13,
          "metadata": {},
          "output_type": "execute_result"
        }
      ],
      "source": [
        "# Contando o número de valores não ausentes para cada Variável\n",
        "\"\"\"\n",
        "Isso fornece o número de valores não omissos para cada variável e\n",
        "é extremamente útil ao lidar com valores ausentes em um Dataframe\n",
        "\n",
        "\"\"\"\n",
        "df.count()"
      ]
    },
    {
      "cell_type": "markdown",
      "id": "b104e928",
      "metadata": {
        "id": "b104e928"
      },
      "source": [
        "## Estatísticas descritivas\n",
        "\n",
        "Agora para conhecer as características do conjunto de dados usaremos o método df.describe() que por padrão fornece o resumo de todas as variáveis numéricas presentes em nosso data frame."
      ]
    },
    {
      "cell_type": "code",
      "execution_count": null,
      "id": "3e32db8a",
      "metadata": {
        "id": "3e32db8a",
        "outputId": "9dc987c5-21b5-4891-bedf-7948339f1b98"
      },
      "outputs": [
        {
          "data": {
            "text/html": [
              "<div>\n",
              "<style scoped>\n",
              "    .dataframe tbody tr th:only-of-type {\n",
              "        vertical-align: middle;\n",
              "    }\n",
              "\n",
              "    .dataframe tbody tr th {\n",
              "        vertical-align: top;\n",
              "    }\n",
              "\n",
              "    .dataframe thead th {\n",
              "        text-align: right;\n",
              "    }\n",
              "</style>\n",
              "<table border=\"1\" class=\"dataframe\">\n",
              "  <thead>\n",
              "    <tr style=\"text-align: right;\">\n",
              "      <th></th>\n",
              "      <th>User_ID</th>\n",
              "      <th>Occupation</th>\n",
              "      <th>Marital_Status</th>\n",
              "      <th>Product_Category_1</th>\n",
              "      <th>Product_Category_2</th>\n",
              "      <th>Product_Category_3</th>\n",
              "      <th>Purchase</th>\n",
              "    </tr>\n",
              "  </thead>\n",
              "  <tbody>\n",
              "    <tr>\n",
              "      <th>count</th>\n",
              "      <td>5.500680e+05</td>\n",
              "      <td>550068.000000</td>\n",
              "      <td>550068.000000</td>\n",
              "      <td>550068.000000</td>\n",
              "      <td>376430.000000</td>\n",
              "      <td>166821.000000</td>\n",
              "      <td>550068.000000</td>\n",
              "    </tr>\n",
              "    <tr>\n",
              "      <th>mean</th>\n",
              "      <td>1.003029e+06</td>\n",
              "      <td>8.076707</td>\n",
              "      <td>0.409653</td>\n",
              "      <td>5.404270</td>\n",
              "      <td>9.842329</td>\n",
              "      <td>12.668243</td>\n",
              "      <td>9263.968713</td>\n",
              "    </tr>\n",
              "    <tr>\n",
              "      <th>std</th>\n",
              "      <td>1.727592e+03</td>\n",
              "      <td>6.522660</td>\n",
              "      <td>0.491770</td>\n",
              "      <td>3.936211</td>\n",
              "      <td>5.086590</td>\n",
              "      <td>4.125338</td>\n",
              "      <td>5023.065394</td>\n",
              "    </tr>\n",
              "    <tr>\n",
              "      <th>min</th>\n",
              "      <td>1.000001e+06</td>\n",
              "      <td>0.000000</td>\n",
              "      <td>0.000000</td>\n",
              "      <td>1.000000</td>\n",
              "      <td>2.000000</td>\n",
              "      <td>3.000000</td>\n",
              "      <td>12.000000</td>\n",
              "    </tr>\n",
              "    <tr>\n",
              "      <th>25%</th>\n",
              "      <td>1.001516e+06</td>\n",
              "      <td>2.000000</td>\n",
              "      <td>0.000000</td>\n",
              "      <td>1.000000</td>\n",
              "      <td>5.000000</td>\n",
              "      <td>9.000000</td>\n",
              "      <td>5823.000000</td>\n",
              "    </tr>\n",
              "    <tr>\n",
              "      <th>50%</th>\n",
              "      <td>1.003077e+06</td>\n",
              "      <td>7.000000</td>\n",
              "      <td>0.000000</td>\n",
              "      <td>5.000000</td>\n",
              "      <td>9.000000</td>\n",
              "      <td>14.000000</td>\n",
              "      <td>8047.000000</td>\n",
              "    </tr>\n",
              "    <tr>\n",
              "      <th>75%</th>\n",
              "      <td>1.004478e+06</td>\n",
              "      <td>14.000000</td>\n",
              "      <td>1.000000</td>\n",
              "      <td>8.000000</td>\n",
              "      <td>15.000000</td>\n",
              "      <td>16.000000</td>\n",
              "      <td>12054.000000</td>\n",
              "    </tr>\n",
              "    <tr>\n",
              "      <th>max</th>\n",
              "      <td>1.006040e+06</td>\n",
              "      <td>20.000000</td>\n",
              "      <td>1.000000</td>\n",
              "      <td>20.000000</td>\n",
              "      <td>18.000000</td>\n",
              "      <td>18.000000</td>\n",
              "      <td>23961.000000</td>\n",
              "    </tr>\n",
              "  </tbody>\n",
              "</table>\n",
              "</div>"
            ],
            "text/plain": [
              "            User_ID     Occupation  Marital_Status  Product_Category_1  \\\n",
              "count  5.500680e+05  550068.000000   550068.000000       550068.000000   \n",
              "mean   1.003029e+06       8.076707        0.409653            5.404270   \n",
              "std    1.727592e+03       6.522660        0.491770            3.936211   \n",
              "min    1.000001e+06       0.000000        0.000000            1.000000   \n",
              "25%    1.001516e+06       2.000000        0.000000            1.000000   \n",
              "50%    1.003077e+06       7.000000        0.000000            5.000000   \n",
              "75%    1.004478e+06      14.000000        1.000000            8.000000   \n",
              "max    1.006040e+06      20.000000        1.000000           20.000000   \n",
              "\n",
              "       Product_Category_2  Product_Category_3       Purchase  \n",
              "count       376430.000000       166821.000000  550068.000000  \n",
              "mean             9.842329           12.668243    9263.968713  \n",
              "std              5.086590            4.125338    5023.065394  \n",
              "min              2.000000            3.000000      12.000000  \n",
              "25%              5.000000            9.000000    5823.000000  \n",
              "50%              9.000000           14.000000    8047.000000  \n",
              "75%             15.000000           16.000000   12054.000000  \n",
              "max             18.000000           18.000000   23961.000000  "
            ]
          },
          "execution_count": 15,
          "metadata": {},
          "output_type": "execute_result"
        }
      ],
      "source": [
        "df.describe()"
      ]
    },
    {
      "cell_type": "markdown",
      "id": "a694f265",
      "metadata": {
        "id": "a694f265"
      },
      "source": [
        "Usando o método df.describe() , obtemos as seguintes características das variáveis ​​numéricas, a saber, contar (número de valores não omissos), média, desvio padrão e o resumo de 5 pontos que inclui mínimo, primeiro quartil, segundo quartil, terceiro quartil e máximo.\n",
        "\n",
        "E as variáveis ​​categóricas?"
      ]
    },
    {
      "cell_type": "code",
      "execution_count": null,
      "id": "92ce3779",
      "metadata": {
        "id": "92ce3779",
        "outputId": "d9edeb78-f037-40c8-a4b9-3d52f1d3837b"
      },
      "outputs": [
        {
          "data": {
            "text/html": [
              "<div>\n",
              "<style scoped>\n",
              "    .dataframe tbody tr th:only-of-type {\n",
              "        vertical-align: middle;\n",
              "    }\n",
              "\n",
              "    .dataframe tbody tr th {\n",
              "        vertical-align: top;\n",
              "    }\n",
              "\n",
              "    .dataframe thead th {\n",
              "        text-align: right;\n",
              "    }\n",
              "</style>\n",
              "<table border=\"1\" class=\"dataframe\">\n",
              "  <thead>\n",
              "    <tr style=\"text-align: right;\">\n",
              "      <th></th>\n",
              "      <th>User_ID</th>\n",
              "      <th>Product_ID</th>\n",
              "      <th>Gender</th>\n",
              "      <th>Age</th>\n",
              "      <th>Occupation</th>\n",
              "      <th>City_Category</th>\n",
              "      <th>Stay_In_Current_City_Years</th>\n",
              "      <th>Marital_Status</th>\n",
              "      <th>Product_Category_1</th>\n",
              "      <th>Product_Category_2</th>\n",
              "      <th>Product_Category_3</th>\n",
              "      <th>Purchase</th>\n",
              "    </tr>\n",
              "  </thead>\n",
              "  <tbody>\n",
              "    <tr>\n",
              "      <th>count</th>\n",
              "      <td>5.500680e+05</td>\n",
              "      <td>550068</td>\n",
              "      <td>550068</td>\n",
              "      <td>550068</td>\n",
              "      <td>550068.000000</td>\n",
              "      <td>550068</td>\n",
              "      <td>550068</td>\n",
              "      <td>550068.000000</td>\n",
              "      <td>550068.000000</td>\n",
              "      <td>376430.000000</td>\n",
              "      <td>166821.000000</td>\n",
              "      <td>550068.000000</td>\n",
              "    </tr>\n",
              "    <tr>\n",
              "      <th>unique</th>\n",
              "      <td>NaN</td>\n",
              "      <td>3631</td>\n",
              "      <td>2</td>\n",
              "      <td>7</td>\n",
              "      <td>NaN</td>\n",
              "      <td>3</td>\n",
              "      <td>5</td>\n",
              "      <td>NaN</td>\n",
              "      <td>NaN</td>\n",
              "      <td>NaN</td>\n",
              "      <td>NaN</td>\n",
              "      <td>NaN</td>\n",
              "    </tr>\n",
              "    <tr>\n",
              "      <th>top</th>\n",
              "      <td>NaN</td>\n",
              "      <td>P00265242</td>\n",
              "      <td>M</td>\n",
              "      <td>26-35</td>\n",
              "      <td>NaN</td>\n",
              "      <td>B</td>\n",
              "      <td>1</td>\n",
              "      <td>NaN</td>\n",
              "      <td>NaN</td>\n",
              "      <td>NaN</td>\n",
              "      <td>NaN</td>\n",
              "      <td>NaN</td>\n",
              "    </tr>\n",
              "    <tr>\n",
              "      <th>freq</th>\n",
              "      <td>NaN</td>\n",
              "      <td>1880</td>\n",
              "      <td>414259</td>\n",
              "      <td>219587</td>\n",
              "      <td>NaN</td>\n",
              "      <td>231173</td>\n",
              "      <td>193821</td>\n",
              "      <td>NaN</td>\n",
              "      <td>NaN</td>\n",
              "      <td>NaN</td>\n",
              "      <td>NaN</td>\n",
              "      <td>NaN</td>\n",
              "    </tr>\n",
              "    <tr>\n",
              "      <th>mean</th>\n",
              "      <td>1.003029e+06</td>\n",
              "      <td>NaN</td>\n",
              "      <td>NaN</td>\n",
              "      <td>NaN</td>\n",
              "      <td>8.076707</td>\n",
              "      <td>NaN</td>\n",
              "      <td>NaN</td>\n",
              "      <td>0.409653</td>\n",
              "      <td>5.404270</td>\n",
              "      <td>9.842329</td>\n",
              "      <td>12.668243</td>\n",
              "      <td>9263.968713</td>\n",
              "    </tr>\n",
              "    <tr>\n",
              "      <th>std</th>\n",
              "      <td>1.727592e+03</td>\n",
              "      <td>NaN</td>\n",
              "      <td>NaN</td>\n",
              "      <td>NaN</td>\n",
              "      <td>6.522660</td>\n",
              "      <td>NaN</td>\n",
              "      <td>NaN</td>\n",
              "      <td>0.491770</td>\n",
              "      <td>3.936211</td>\n",
              "      <td>5.086590</td>\n",
              "      <td>4.125338</td>\n",
              "      <td>5023.065394</td>\n",
              "    </tr>\n",
              "    <tr>\n",
              "      <th>min</th>\n",
              "      <td>1.000001e+06</td>\n",
              "      <td>NaN</td>\n",
              "      <td>NaN</td>\n",
              "      <td>NaN</td>\n",
              "      <td>0.000000</td>\n",
              "      <td>NaN</td>\n",
              "      <td>NaN</td>\n",
              "      <td>0.000000</td>\n",
              "      <td>1.000000</td>\n",
              "      <td>2.000000</td>\n",
              "      <td>3.000000</td>\n",
              "      <td>12.000000</td>\n",
              "    </tr>\n",
              "    <tr>\n",
              "      <th>25%</th>\n",
              "      <td>1.001516e+06</td>\n",
              "      <td>NaN</td>\n",
              "      <td>NaN</td>\n",
              "      <td>NaN</td>\n",
              "      <td>2.000000</td>\n",
              "      <td>NaN</td>\n",
              "      <td>NaN</td>\n",
              "      <td>0.000000</td>\n",
              "      <td>1.000000</td>\n",
              "      <td>5.000000</td>\n",
              "      <td>9.000000</td>\n",
              "      <td>5823.000000</td>\n",
              "    </tr>\n",
              "    <tr>\n",
              "      <th>50%</th>\n",
              "      <td>1.003077e+06</td>\n",
              "      <td>NaN</td>\n",
              "      <td>NaN</td>\n",
              "      <td>NaN</td>\n",
              "      <td>7.000000</td>\n",
              "      <td>NaN</td>\n",
              "      <td>NaN</td>\n",
              "      <td>0.000000</td>\n",
              "      <td>5.000000</td>\n",
              "      <td>9.000000</td>\n",
              "      <td>14.000000</td>\n",
              "      <td>8047.000000</td>\n",
              "    </tr>\n",
              "    <tr>\n",
              "      <th>75%</th>\n",
              "      <td>1.004478e+06</td>\n",
              "      <td>NaN</td>\n",
              "      <td>NaN</td>\n",
              "      <td>NaN</td>\n",
              "      <td>14.000000</td>\n",
              "      <td>NaN</td>\n",
              "      <td>NaN</td>\n",
              "      <td>1.000000</td>\n",
              "      <td>8.000000</td>\n",
              "      <td>15.000000</td>\n",
              "      <td>16.000000</td>\n",
              "      <td>12054.000000</td>\n",
              "    </tr>\n",
              "    <tr>\n",
              "      <th>max</th>\n",
              "      <td>1.006040e+06</td>\n",
              "      <td>NaN</td>\n",
              "      <td>NaN</td>\n",
              "      <td>NaN</td>\n",
              "      <td>20.000000</td>\n",
              "      <td>NaN</td>\n",
              "      <td>NaN</td>\n",
              "      <td>1.000000</td>\n",
              "      <td>20.000000</td>\n",
              "      <td>18.000000</td>\n",
              "      <td>18.000000</td>\n",
              "      <td>23961.000000</td>\n",
              "    </tr>\n",
              "  </tbody>\n",
              "</table>\n",
              "</div>"
            ],
            "text/plain": [
              "             User_ID Product_ID  Gender     Age     Occupation City_Category  \\\n",
              "count   5.500680e+05     550068  550068  550068  550068.000000        550068   \n",
              "unique           NaN       3631       2       7            NaN             3   \n",
              "top              NaN  P00265242       M   26-35            NaN             B   \n",
              "freq             NaN       1880  414259  219587            NaN        231173   \n",
              "mean    1.003029e+06        NaN     NaN     NaN       8.076707           NaN   \n",
              "std     1.727592e+03        NaN     NaN     NaN       6.522660           NaN   \n",
              "min     1.000001e+06        NaN     NaN     NaN       0.000000           NaN   \n",
              "25%     1.001516e+06        NaN     NaN     NaN       2.000000           NaN   \n",
              "50%     1.003077e+06        NaN     NaN     NaN       7.000000           NaN   \n",
              "75%     1.004478e+06        NaN     NaN     NaN      14.000000           NaN   \n",
              "max     1.006040e+06        NaN     NaN     NaN      20.000000           NaN   \n",
              "\n",
              "       Stay_In_Current_City_Years  Marital_Status  Product_Category_1  \\\n",
              "count                      550068   550068.000000       550068.000000   \n",
              "unique                          5             NaN                 NaN   \n",
              "top                             1             NaN                 NaN   \n",
              "freq                       193821             NaN                 NaN   \n",
              "mean                          NaN        0.409653            5.404270   \n",
              "std                           NaN        0.491770            3.936211   \n",
              "min                           NaN        0.000000            1.000000   \n",
              "25%                           NaN        0.000000            1.000000   \n",
              "50%                           NaN        0.000000            5.000000   \n",
              "75%                           NaN        1.000000            8.000000   \n",
              "max                           NaN        1.000000           20.000000   \n",
              "\n",
              "        Product_Category_2  Product_Category_3       Purchase  \n",
              "count        376430.000000       166821.000000  550068.000000  \n",
              "unique                 NaN                 NaN            NaN  \n",
              "top                    NaN                 NaN            NaN  \n",
              "freq                   NaN                 NaN            NaN  \n",
              "mean              9.842329           12.668243    9263.968713  \n",
              "std               5.086590            4.125338    5023.065394  \n",
              "min               2.000000            3.000000      12.000000  \n",
              "25%               5.000000            9.000000    5823.000000  \n",
              "50%               9.000000           14.000000    8047.000000  \n",
              "75%              15.000000           16.000000   12054.000000  \n",
              "max              18.000000           18.000000   23961.000000  "
            ]
          },
          "execution_count": 16,
          "metadata": {},
          "output_type": "execute_result"
        }
      ],
      "source": [
        "df.describe(include = 'all')"
      ]
    },
    {
      "cell_type": "markdown",
      "id": "73956eeb",
      "metadata": {
        "id": "73956eeb"
      },
      "source": [
        "Ao fornecer o argumento include e atribuir a ele o valor 'all' , obtemos o resumo das variáveis ​​categóricas também. Para as variáveis ​​categóricas, obtemos as características: count (número de valores não omissos), unique (número de valores únicos), top (o valor mais frequente) e a frequência do valor mais frequente."
      ]
    },
    {
      "cell_type": "markdown",
      "id": "358c0512",
      "metadata": {
        "id": "358c0512"
      },
      "source": [
        "## Exibir os metadados completos do conjunto de dados"
      ]
    },
    {
      "cell_type": "code",
      "execution_count": null,
      "id": "3f15f44a",
      "metadata": {
        "id": "3f15f44a",
        "outputId": "82326354-cddb-4c8e-9285-fd3f4c30744c"
      },
      "outputs": [
        {
          "name": "stdout",
          "output_type": "stream",
          "text": [
            "<class 'pandas.core.frame.DataFrame'>\n",
            "RangeIndex: 550068 entries, 0 to 550067\n",
            "Data columns (total 12 columns):\n",
            " #   Column                      Non-Null Count   Dtype  \n",
            "---  ------                      --------------   -----  \n",
            " 0   User_ID                     550068 non-null  int64  \n",
            " 1   Product_ID                  550068 non-null  object \n",
            " 2   Gender                      550068 non-null  object \n",
            " 3   Age                         550068 non-null  object \n",
            " 4   Occupation                  550068 non-null  int64  \n",
            " 5   City_Category               550068 non-null  object \n",
            " 6   Stay_In_Current_City_Years  550068 non-null  object \n",
            " 7   Marital_Status              550068 non-null  int64  \n",
            " 8   Product_Category_1          550068 non-null  int64  \n",
            " 9   Product_Category_2          376430 non-null  float64\n",
            " 10  Product_Category_3          166821 non-null  float64\n",
            " 11  Purchase                    550068 non-null  int64  \n",
            "dtypes: float64(2), int64(5), object(5)\n",
            "memory usage: 50.4+ MB\n"
          ]
        }
      ],
      "source": [
        "df.info()"
      ]
    },
    {
      "cell_type": "markdown",
      "id": "b48caf5e",
      "metadata": {
        "id": "b48caf5e"
      },
      "source": [
        " Com apenas este comando de df.info() obtemos a informação completa dos dados em mãos.\n",
        "\n",
        "Com isso, terminamos a Análise Exploratória de Dados Baseada em Estrutura e agora é hora de entrar na Análise Exploratória de Dados Baseada em Conteúdo ."
      ]
    },
    {
      "cell_type": "markdown",
      "id": "48dbeb94",
      "metadata": {
        "id": "48dbeb94"
      },
      "source": [
        "## Manipulação de duplicatas\n",
        "\n",
        "Isso envolve 2 etapas: Detectando duplicatas e Removendo duplicatas .\n",
        "\n",
        "Para verificar as duplicatas em nossos dados\n"
      ]
    },
    {
      "cell_type": "code",
      "execution_count": null,
      "id": "99920a17",
      "metadata": {
        "id": "99920a17",
        "outputId": "76908831-77ae-4a4c-f9cb-8b012f987b60"
      },
      "outputs": [
        {
          "data": {
            "text/plain": [
              "0         False\n",
              "1         False\n",
              "2         False\n",
              "3         False\n",
              "4         False\n",
              "          ...  \n",
              "550063    False\n",
              "550064    False\n",
              "550065    False\n",
              "550066    False\n",
              "550067    False\n",
              "Length: 550068, dtype: bool"
            ]
          },
          "execution_count": 19,
          "metadata": {},
          "output_type": "execute_result"
        }
      ],
      "source": [
        "df.duplicated()"
      ]
    },
    {
      "cell_type": "markdown",
      "id": "7ccda522",
      "metadata": {
        "id": "7ccda522"
      },
      "source": [
        "Aqui, duplicatas significam exatamente as mesmas observações se repetindo. Como podemos ver, não há observações duplicadas em nossos dados e, portanto, cada observação é única.\n",
        "\n",
        "No entanto,  para remover as duplicatas (se houver)  , podemos usar o código:"
      ]
    },
    {
      "cell_type": "code",
      "execution_count": null,
      "id": "d1a83bb7",
      "metadata": {
        "id": "d1a83bb7",
        "outputId": "47b27938-5b92-48d3-831c-3464e51d0799"
      },
      "outputs": [
        {
          "data": {
            "text/html": [
              "<div>\n",
              "<style scoped>\n",
              "    .dataframe tbody tr th:only-of-type {\n",
              "        vertical-align: middle;\n",
              "    }\n",
              "\n",
              "    .dataframe tbody tr th {\n",
              "        vertical-align: top;\n",
              "    }\n",
              "\n",
              "    .dataframe thead th {\n",
              "        text-align: right;\n",
              "    }\n",
              "</style>\n",
              "<table border=\"1\" class=\"dataframe\">\n",
              "  <thead>\n",
              "    <tr style=\"text-align: right;\">\n",
              "      <th></th>\n",
              "      <th>User_ID</th>\n",
              "      <th>Product_ID</th>\n",
              "      <th>Gender</th>\n",
              "      <th>Age</th>\n",
              "      <th>Occupation</th>\n",
              "      <th>City_Category</th>\n",
              "      <th>Stay_In_Current_City_Years</th>\n",
              "      <th>Marital_Status</th>\n",
              "      <th>Product_Category_1</th>\n",
              "      <th>Product_Category_2</th>\n",
              "      <th>Product_Category_3</th>\n",
              "      <th>Purchase</th>\n",
              "    </tr>\n",
              "  </thead>\n",
              "  <tbody>\n",
              "    <tr>\n",
              "      <th>0</th>\n",
              "      <td>1000001</td>\n",
              "      <td>P00069042</td>\n",
              "      <td>F</td>\n",
              "      <td>0-17</td>\n",
              "      <td>10</td>\n",
              "      <td>A</td>\n",
              "      <td>2</td>\n",
              "      <td>0</td>\n",
              "      <td>3</td>\n",
              "      <td>NaN</td>\n",
              "      <td>NaN</td>\n",
              "      <td>8370</td>\n",
              "    </tr>\n",
              "    <tr>\n",
              "      <th>1</th>\n",
              "      <td>1000001</td>\n",
              "      <td>P00248942</td>\n",
              "      <td>F</td>\n",
              "      <td>0-17</td>\n",
              "      <td>10</td>\n",
              "      <td>A</td>\n",
              "      <td>2</td>\n",
              "      <td>0</td>\n",
              "      <td>1</td>\n",
              "      <td>6.0</td>\n",
              "      <td>14.0</td>\n",
              "      <td>15200</td>\n",
              "    </tr>\n",
              "    <tr>\n",
              "      <th>2</th>\n",
              "      <td>1000001</td>\n",
              "      <td>P00087842</td>\n",
              "      <td>F</td>\n",
              "      <td>0-17</td>\n",
              "      <td>10</td>\n",
              "      <td>A</td>\n",
              "      <td>2</td>\n",
              "      <td>0</td>\n",
              "      <td>12</td>\n",
              "      <td>NaN</td>\n",
              "      <td>NaN</td>\n",
              "      <td>1422</td>\n",
              "    </tr>\n",
              "    <tr>\n",
              "      <th>3</th>\n",
              "      <td>1000001</td>\n",
              "      <td>P00085442</td>\n",
              "      <td>F</td>\n",
              "      <td>0-17</td>\n",
              "      <td>10</td>\n",
              "      <td>A</td>\n",
              "      <td>2</td>\n",
              "      <td>0</td>\n",
              "      <td>12</td>\n",
              "      <td>14.0</td>\n",
              "      <td>NaN</td>\n",
              "      <td>1057</td>\n",
              "    </tr>\n",
              "    <tr>\n",
              "      <th>4</th>\n",
              "      <td>1000002</td>\n",
              "      <td>P00285442</td>\n",
              "      <td>M</td>\n",
              "      <td>55+</td>\n",
              "      <td>16</td>\n",
              "      <td>C</td>\n",
              "      <td>4+</td>\n",
              "      <td>0</td>\n",
              "      <td>8</td>\n",
              "      <td>NaN</td>\n",
              "      <td>NaN</td>\n",
              "      <td>7969</td>\n",
              "    </tr>\n",
              "    <tr>\n",
              "      <th>...</th>\n",
              "      <td>...</td>\n",
              "      <td>...</td>\n",
              "      <td>...</td>\n",
              "      <td>...</td>\n",
              "      <td>...</td>\n",
              "      <td>...</td>\n",
              "      <td>...</td>\n",
              "      <td>...</td>\n",
              "      <td>...</td>\n",
              "      <td>...</td>\n",
              "      <td>...</td>\n",
              "      <td>...</td>\n",
              "    </tr>\n",
              "    <tr>\n",
              "      <th>550063</th>\n",
              "      <td>1006033</td>\n",
              "      <td>P00372445</td>\n",
              "      <td>M</td>\n",
              "      <td>51-55</td>\n",
              "      <td>13</td>\n",
              "      <td>B</td>\n",
              "      <td>1</td>\n",
              "      <td>1</td>\n",
              "      <td>20</td>\n",
              "      <td>NaN</td>\n",
              "      <td>NaN</td>\n",
              "      <td>368</td>\n",
              "    </tr>\n",
              "    <tr>\n",
              "      <th>550064</th>\n",
              "      <td>1006035</td>\n",
              "      <td>P00375436</td>\n",
              "      <td>F</td>\n",
              "      <td>26-35</td>\n",
              "      <td>1</td>\n",
              "      <td>C</td>\n",
              "      <td>3</td>\n",
              "      <td>0</td>\n",
              "      <td>20</td>\n",
              "      <td>NaN</td>\n",
              "      <td>NaN</td>\n",
              "      <td>371</td>\n",
              "    </tr>\n",
              "    <tr>\n",
              "      <th>550065</th>\n",
              "      <td>1006036</td>\n",
              "      <td>P00375436</td>\n",
              "      <td>F</td>\n",
              "      <td>26-35</td>\n",
              "      <td>15</td>\n",
              "      <td>B</td>\n",
              "      <td>4+</td>\n",
              "      <td>1</td>\n",
              "      <td>20</td>\n",
              "      <td>NaN</td>\n",
              "      <td>NaN</td>\n",
              "      <td>137</td>\n",
              "    </tr>\n",
              "    <tr>\n",
              "      <th>550066</th>\n",
              "      <td>1006038</td>\n",
              "      <td>P00375436</td>\n",
              "      <td>F</td>\n",
              "      <td>55+</td>\n",
              "      <td>1</td>\n",
              "      <td>C</td>\n",
              "      <td>2</td>\n",
              "      <td>0</td>\n",
              "      <td>20</td>\n",
              "      <td>NaN</td>\n",
              "      <td>NaN</td>\n",
              "      <td>365</td>\n",
              "    </tr>\n",
              "    <tr>\n",
              "      <th>550067</th>\n",
              "      <td>1006039</td>\n",
              "      <td>P00371644</td>\n",
              "      <td>F</td>\n",
              "      <td>46-50</td>\n",
              "      <td>0</td>\n",
              "      <td>B</td>\n",
              "      <td>4+</td>\n",
              "      <td>1</td>\n",
              "      <td>20</td>\n",
              "      <td>NaN</td>\n",
              "      <td>NaN</td>\n",
              "      <td>490</td>\n",
              "    </tr>\n",
              "  </tbody>\n",
              "</table>\n",
              "<p>550068 rows × 12 columns</p>\n",
              "</div>"
            ],
            "text/plain": [
              "        User_ID Product_ID Gender    Age  Occupation City_Category  \\\n",
              "0       1000001  P00069042      F   0-17          10             A   \n",
              "1       1000001  P00248942      F   0-17          10             A   \n",
              "2       1000001  P00087842      F   0-17          10             A   \n",
              "3       1000001  P00085442      F   0-17          10             A   \n",
              "4       1000002  P00285442      M    55+          16             C   \n",
              "...         ...        ...    ...    ...         ...           ...   \n",
              "550063  1006033  P00372445      M  51-55          13             B   \n",
              "550064  1006035  P00375436      F  26-35           1             C   \n",
              "550065  1006036  P00375436      F  26-35          15             B   \n",
              "550066  1006038  P00375436      F    55+           1             C   \n",
              "550067  1006039  P00371644      F  46-50           0             B   \n",
              "\n",
              "       Stay_In_Current_City_Years  Marital_Status  Product_Category_1  \\\n",
              "0                               2               0                   3   \n",
              "1                               2               0                   1   \n",
              "2                               2               0                  12   \n",
              "3                               2               0                  12   \n",
              "4                              4+               0                   8   \n",
              "...                           ...             ...                 ...   \n",
              "550063                          1               1                  20   \n",
              "550064                          3               0                  20   \n",
              "550065                         4+               1                  20   \n",
              "550066                          2               0                  20   \n",
              "550067                         4+               1                  20   \n",
              "\n",
              "        Product_Category_2  Product_Category_3  Purchase  \n",
              "0                      NaN                 NaN      8370  \n",
              "1                      6.0                14.0     15200  \n",
              "2                      NaN                 NaN      1422  \n",
              "3                     14.0                 NaN      1057  \n",
              "4                      NaN                 NaN      7969  \n",
              "...                    ...                 ...       ...  \n",
              "550063                 NaN                 NaN       368  \n",
              "550064                 NaN                 NaN       371  \n",
              "550065                 NaN                 NaN       137  \n",
              "550066                 NaN                 NaN       365  \n",
              "550067                 NaN                 NaN       490  \n",
              "\n",
              "[550068 rows x 12 columns]"
            ]
          },
          "execution_count": 21,
          "metadata": {},
          "output_type": "execute_result"
        }
      ],
      "source": [
        "df.drop_duplicates()"
      ]
    },
    {
      "cell_type": "markdown",
      "id": "7c4679f2",
      "metadata": {
        "id": "7c4679f2"
      },
      "source": [
        "Além disso, podemos ver que existem valores duplicados em algumas das variáveis ​​como User_ID . Como podemos removê-los?"
      ]
    },
    {
      "cell_type": "code",
      "execution_count": null,
      "id": "f3546286",
      "metadata": {
        "id": "f3546286",
        "outputId": "daa7009d-ce62-4c48-8090-75c3d4c2626c"
      },
      "outputs": [
        {
          "data": {
            "text/html": [
              "<div>\n",
              "<style scoped>\n",
              "    .dataframe tbody tr th:only-of-type {\n",
              "        vertical-align: middle;\n",
              "    }\n",
              "\n",
              "    .dataframe tbody tr th {\n",
              "        vertical-align: top;\n",
              "    }\n",
              "\n",
              "    .dataframe thead th {\n",
              "        text-align: right;\n",
              "    }\n",
              "</style>\n",
              "<table border=\"1\" class=\"dataframe\">\n",
              "  <thead>\n",
              "    <tr style=\"text-align: right;\">\n",
              "      <th></th>\n",
              "      <th>User_ID</th>\n",
              "      <th>Product_ID</th>\n",
              "      <th>Gender</th>\n",
              "      <th>Age</th>\n",
              "      <th>Occupation</th>\n",
              "      <th>City_Category</th>\n",
              "      <th>Stay_In_Current_City_Years</th>\n",
              "      <th>Marital_Status</th>\n",
              "      <th>Product_Category_1</th>\n",
              "      <th>Product_Category_2</th>\n",
              "      <th>Product_Category_3</th>\n",
              "      <th>Purchase</th>\n",
              "    </tr>\n",
              "  </thead>\n",
              "  <tbody>\n",
              "    <tr>\n",
              "      <th>0</th>\n",
              "      <td>1000001</td>\n",
              "      <td>P00069042</td>\n",
              "      <td>F</td>\n",
              "      <td>0-17</td>\n",
              "      <td>10</td>\n",
              "      <td>A</td>\n",
              "      <td>2</td>\n",
              "      <td>0</td>\n",
              "      <td>3</td>\n",
              "      <td>NaN</td>\n",
              "      <td>NaN</td>\n",
              "      <td>8370</td>\n",
              "    </tr>\n",
              "    <tr>\n",
              "      <th>4</th>\n",
              "      <td>1000002</td>\n",
              "      <td>P00285442</td>\n",
              "      <td>M</td>\n",
              "      <td>55+</td>\n",
              "      <td>16</td>\n",
              "      <td>C</td>\n",
              "      <td>4+</td>\n",
              "      <td>0</td>\n",
              "      <td>8</td>\n",
              "      <td>NaN</td>\n",
              "      <td>NaN</td>\n",
              "      <td>7969</td>\n",
              "    </tr>\n",
              "    <tr>\n",
              "      <th>5</th>\n",
              "      <td>1000003</td>\n",
              "      <td>P00193542</td>\n",
              "      <td>M</td>\n",
              "      <td>26-35</td>\n",
              "      <td>15</td>\n",
              "      <td>A</td>\n",
              "      <td>3</td>\n",
              "      <td>0</td>\n",
              "      <td>1</td>\n",
              "      <td>2.0</td>\n",
              "      <td>NaN</td>\n",
              "      <td>15227</td>\n",
              "    </tr>\n",
              "    <tr>\n",
              "      <th>6</th>\n",
              "      <td>1000004</td>\n",
              "      <td>P00184942</td>\n",
              "      <td>M</td>\n",
              "      <td>46-50</td>\n",
              "      <td>7</td>\n",
              "      <td>B</td>\n",
              "      <td>2</td>\n",
              "      <td>1</td>\n",
              "      <td>1</td>\n",
              "      <td>8.0</td>\n",
              "      <td>17.0</td>\n",
              "      <td>19215</td>\n",
              "    </tr>\n",
              "    <tr>\n",
              "      <th>9</th>\n",
              "      <td>1000005</td>\n",
              "      <td>P00274942</td>\n",
              "      <td>M</td>\n",
              "      <td>26-35</td>\n",
              "      <td>20</td>\n",
              "      <td>A</td>\n",
              "      <td>1</td>\n",
              "      <td>1</td>\n",
              "      <td>8</td>\n",
              "      <td>NaN</td>\n",
              "      <td>NaN</td>\n",
              "      <td>7871</td>\n",
              "    </tr>\n",
              "    <tr>\n",
              "      <th>...</th>\n",
              "      <td>...</td>\n",
              "      <td>...</td>\n",
              "      <td>...</td>\n",
              "      <td>...</td>\n",
              "      <td>...</td>\n",
              "      <td>...</td>\n",
              "      <td>...</td>\n",
              "      <td>...</td>\n",
              "      <td>...</td>\n",
              "      <td>...</td>\n",
              "      <td>...</td>\n",
              "      <td>...</td>\n",
              "    </tr>\n",
              "    <tr>\n",
              "      <th>185450</th>\n",
              "      <td>1004588</td>\n",
              "      <td>P00260042</td>\n",
              "      <td>F</td>\n",
              "      <td>26-35</td>\n",
              "      <td>4</td>\n",
              "      <td>C</td>\n",
              "      <td>0</td>\n",
              "      <td>0</td>\n",
              "      <td>5</td>\n",
              "      <td>8.0</td>\n",
              "      <td>NaN</td>\n",
              "      <td>8707</td>\n",
              "    </tr>\n",
              "    <tr>\n",
              "      <th>187076</th>\n",
              "      <td>1004871</td>\n",
              "      <td>P00242742</td>\n",
              "      <td>M</td>\n",
              "      <td>18-25</td>\n",
              "      <td>12</td>\n",
              "      <td>C</td>\n",
              "      <td>2</td>\n",
              "      <td>0</td>\n",
              "      <td>1</td>\n",
              "      <td>2.0</td>\n",
              "      <td>9.0</td>\n",
              "      <td>15389</td>\n",
              "    </tr>\n",
              "    <tr>\n",
              "      <th>221494</th>\n",
              "      <td>1004113</td>\n",
              "      <td>P00351842</td>\n",
              "      <td>M</td>\n",
              "      <td>36-45</td>\n",
              "      <td>17</td>\n",
              "      <td>C</td>\n",
              "      <td>3</td>\n",
              "      <td>0</td>\n",
              "      <td>5</td>\n",
              "      <td>NaN</td>\n",
              "      <td>NaN</td>\n",
              "      <td>5183</td>\n",
              "    </tr>\n",
              "    <tr>\n",
              "      <th>229480</th>\n",
              "      <td>1005391</td>\n",
              "      <td>P00339342</td>\n",
              "      <td>M</td>\n",
              "      <td>26-35</td>\n",
              "      <td>7</td>\n",
              "      <td>A</td>\n",
              "      <td>0</td>\n",
              "      <td>0</td>\n",
              "      <td>1</td>\n",
              "      <td>NaN</td>\n",
              "      <td>NaN</td>\n",
              "      <td>15831</td>\n",
              "    </tr>\n",
              "    <tr>\n",
              "      <th>243533</th>\n",
              "      <td>1001529</td>\n",
              "      <td>P00000242</td>\n",
              "      <td>M</td>\n",
              "      <td>18-25</td>\n",
              "      <td>4</td>\n",
              "      <td>C</td>\n",
              "      <td>4+</td>\n",
              "      <td>1</td>\n",
              "      <td>2</td>\n",
              "      <td>4.0</td>\n",
              "      <td>9.0</td>\n",
              "      <td>9888</td>\n",
              "    </tr>\n",
              "  </tbody>\n",
              "</table>\n",
              "<p>5891 rows × 12 columns</p>\n",
              "</div>"
            ],
            "text/plain": [
              "        User_ID Product_ID Gender    Age  Occupation City_Category  \\\n",
              "0       1000001  P00069042      F   0-17          10             A   \n",
              "4       1000002  P00285442      M    55+          16             C   \n",
              "5       1000003  P00193542      M  26-35          15             A   \n",
              "6       1000004  P00184942      M  46-50           7             B   \n",
              "9       1000005  P00274942      M  26-35          20             A   \n",
              "...         ...        ...    ...    ...         ...           ...   \n",
              "185450  1004588  P00260042      F  26-35           4             C   \n",
              "187076  1004871  P00242742      M  18-25          12             C   \n",
              "221494  1004113  P00351842      M  36-45          17             C   \n",
              "229480  1005391  P00339342      M  26-35           7             A   \n",
              "243533  1001529  P00000242      M  18-25           4             C   \n",
              "\n",
              "       Stay_In_Current_City_Years  Marital_Status  Product_Category_1  \\\n",
              "0                               2               0                   3   \n",
              "4                              4+               0                   8   \n",
              "5                               3               0                   1   \n",
              "6                               2               1                   1   \n",
              "9                               1               1                   8   \n",
              "...                           ...             ...                 ...   \n",
              "185450                          0               0                   5   \n",
              "187076                          2               0                   1   \n",
              "221494                          3               0                   5   \n",
              "229480                          0               0                   1   \n",
              "243533                         4+               1                   2   \n",
              "\n",
              "        Product_Category_2  Product_Category_3  Purchase  \n",
              "0                      NaN                 NaN      8370  \n",
              "4                      NaN                 NaN      7969  \n",
              "5                      2.0                 NaN     15227  \n",
              "6                      8.0                17.0     19215  \n",
              "9                      NaN                 NaN      7871  \n",
              "...                    ...                 ...       ...  \n",
              "185450                 8.0                 NaN      8707  \n",
              "187076                 2.0                 9.0     15389  \n",
              "221494                 NaN                 NaN      5183  \n",
              "229480                 NaN                 NaN     15831  \n",
              "243533                 4.0                 9.0      9888  \n",
              "\n",
              "[5891 rows x 12 columns]"
            ]
          },
          "execution_count": 22,
          "metadata": {},
          "output_type": "execute_result"
        }
      ],
      "source": [
        "df.drop_duplicates(subset='User_ID')"
      ]
    },
    {
      "cell_type": "markdown",
      "id": "17397f7c",
      "metadata": {
        "id": "17397f7c"
      },
      "source": [
        "Isso, por padrão, mantém apenas a primeira ocorrência do valor duplicado na variável User_ID e descarta o restante deles. Aguentar! Aqui não queremos remover os valores duplicados da variável User_ID permanentemente , então apenas para ver a saída e não fazer nenhuma alteração permanente em nosso quadro de dados, podemos escrever o comando como:"
      ]
    },
    {
      "cell_type": "code",
      "execution_count": null,
      "id": "fe471a8e",
      "metadata": {
        "id": "fe471a8e",
        "outputId": "a51377e1-8ce8-4108-e6c3-b317956cbfc6"
      },
      "outputs": [
        {
          "data": {
            "text/html": [
              "<div>\n",
              "<style scoped>\n",
              "    .dataframe tbody tr th:only-of-type {\n",
              "        vertical-align: middle;\n",
              "    }\n",
              "\n",
              "    .dataframe tbody tr th {\n",
              "        vertical-align: top;\n",
              "    }\n",
              "\n",
              "    .dataframe thead th {\n",
              "        text-align: right;\n",
              "    }\n",
              "</style>\n",
              "<table border=\"1\" class=\"dataframe\">\n",
              "  <thead>\n",
              "    <tr style=\"text-align: right;\">\n",
              "      <th></th>\n",
              "      <th>User_ID</th>\n",
              "      <th>Product_ID</th>\n",
              "      <th>Gender</th>\n",
              "      <th>Age</th>\n",
              "      <th>Occupation</th>\n",
              "      <th>City_Category</th>\n",
              "      <th>Stay_In_Current_City_Years</th>\n",
              "      <th>Marital_Status</th>\n",
              "      <th>Product_Category_1</th>\n",
              "      <th>Product_Category_2</th>\n",
              "      <th>Product_Category_3</th>\n",
              "      <th>Purchase</th>\n",
              "    </tr>\n",
              "  </thead>\n",
              "  <tbody>\n",
              "    <tr>\n",
              "      <th>0</th>\n",
              "      <td>1000001</td>\n",
              "      <td>P00069042</td>\n",
              "      <td>F</td>\n",
              "      <td>0-17</td>\n",
              "      <td>10</td>\n",
              "      <td>A</td>\n",
              "      <td>2</td>\n",
              "      <td>0</td>\n",
              "      <td>3</td>\n",
              "      <td>NaN</td>\n",
              "      <td>NaN</td>\n",
              "      <td>8370</td>\n",
              "    </tr>\n",
              "    <tr>\n",
              "      <th>4</th>\n",
              "      <td>1000002</td>\n",
              "      <td>P00285442</td>\n",
              "      <td>M</td>\n",
              "      <td>55+</td>\n",
              "      <td>16</td>\n",
              "      <td>C</td>\n",
              "      <td>4+</td>\n",
              "      <td>0</td>\n",
              "      <td>8</td>\n",
              "      <td>NaN</td>\n",
              "      <td>NaN</td>\n",
              "      <td>7969</td>\n",
              "    </tr>\n",
              "    <tr>\n",
              "      <th>5</th>\n",
              "      <td>1000003</td>\n",
              "      <td>P00193542</td>\n",
              "      <td>M</td>\n",
              "      <td>26-35</td>\n",
              "      <td>15</td>\n",
              "      <td>A</td>\n",
              "      <td>3</td>\n",
              "      <td>0</td>\n",
              "      <td>1</td>\n",
              "      <td>2.0</td>\n",
              "      <td>NaN</td>\n",
              "      <td>15227</td>\n",
              "    </tr>\n",
              "    <tr>\n",
              "      <th>6</th>\n",
              "      <td>1000004</td>\n",
              "      <td>P00184942</td>\n",
              "      <td>M</td>\n",
              "      <td>46-50</td>\n",
              "      <td>7</td>\n",
              "      <td>B</td>\n",
              "      <td>2</td>\n",
              "      <td>1</td>\n",
              "      <td>1</td>\n",
              "      <td>8.0</td>\n",
              "      <td>17.0</td>\n",
              "      <td>19215</td>\n",
              "    </tr>\n",
              "    <tr>\n",
              "      <th>9</th>\n",
              "      <td>1000005</td>\n",
              "      <td>P00274942</td>\n",
              "      <td>M</td>\n",
              "      <td>26-35</td>\n",
              "      <td>20</td>\n",
              "      <td>A</td>\n",
              "      <td>1</td>\n",
              "      <td>1</td>\n",
              "      <td>8</td>\n",
              "      <td>NaN</td>\n",
              "      <td>NaN</td>\n",
              "      <td>7871</td>\n",
              "    </tr>\n",
              "    <tr>\n",
              "      <th>...</th>\n",
              "      <td>...</td>\n",
              "      <td>...</td>\n",
              "      <td>...</td>\n",
              "      <td>...</td>\n",
              "      <td>...</td>\n",
              "      <td>...</td>\n",
              "      <td>...</td>\n",
              "      <td>...</td>\n",
              "      <td>...</td>\n",
              "      <td>...</td>\n",
              "      <td>...</td>\n",
              "      <td>...</td>\n",
              "    </tr>\n",
              "    <tr>\n",
              "      <th>185450</th>\n",
              "      <td>1004588</td>\n",
              "      <td>P00260042</td>\n",
              "      <td>F</td>\n",
              "      <td>26-35</td>\n",
              "      <td>4</td>\n",
              "      <td>C</td>\n",
              "      <td>0</td>\n",
              "      <td>0</td>\n",
              "      <td>5</td>\n",
              "      <td>8.0</td>\n",
              "      <td>NaN</td>\n",
              "      <td>8707</td>\n",
              "    </tr>\n",
              "    <tr>\n",
              "      <th>187076</th>\n",
              "      <td>1004871</td>\n",
              "      <td>P00242742</td>\n",
              "      <td>M</td>\n",
              "      <td>18-25</td>\n",
              "      <td>12</td>\n",
              "      <td>C</td>\n",
              "      <td>2</td>\n",
              "      <td>0</td>\n",
              "      <td>1</td>\n",
              "      <td>2.0</td>\n",
              "      <td>9.0</td>\n",
              "      <td>15389</td>\n",
              "    </tr>\n",
              "    <tr>\n",
              "      <th>221494</th>\n",
              "      <td>1004113</td>\n",
              "      <td>P00351842</td>\n",
              "      <td>M</td>\n",
              "      <td>36-45</td>\n",
              "      <td>17</td>\n",
              "      <td>C</td>\n",
              "      <td>3</td>\n",
              "      <td>0</td>\n",
              "      <td>5</td>\n",
              "      <td>NaN</td>\n",
              "      <td>NaN</td>\n",
              "      <td>5183</td>\n",
              "    </tr>\n",
              "    <tr>\n",
              "      <th>229480</th>\n",
              "      <td>1005391</td>\n",
              "      <td>P00339342</td>\n",
              "      <td>M</td>\n",
              "      <td>26-35</td>\n",
              "      <td>7</td>\n",
              "      <td>A</td>\n",
              "      <td>0</td>\n",
              "      <td>0</td>\n",
              "      <td>1</td>\n",
              "      <td>NaN</td>\n",
              "      <td>NaN</td>\n",
              "      <td>15831</td>\n",
              "    </tr>\n",
              "    <tr>\n",
              "      <th>243533</th>\n",
              "      <td>1001529</td>\n",
              "      <td>P00000242</td>\n",
              "      <td>M</td>\n",
              "      <td>18-25</td>\n",
              "      <td>4</td>\n",
              "      <td>C</td>\n",
              "      <td>4+</td>\n",
              "      <td>1</td>\n",
              "      <td>2</td>\n",
              "      <td>4.0</td>\n",
              "      <td>9.0</td>\n",
              "      <td>9888</td>\n",
              "    </tr>\n",
              "  </tbody>\n",
              "</table>\n",
              "<p>5891 rows × 12 columns</p>\n",
              "</div>"
            ],
            "text/plain": [
              "        User_ID Product_ID Gender    Age  Occupation City_Category  \\\n",
              "0       1000001  P00069042      F   0-17          10             A   \n",
              "4       1000002  P00285442      M    55+          16             C   \n",
              "5       1000003  P00193542      M  26-35          15             A   \n",
              "6       1000004  P00184942      M  46-50           7             B   \n",
              "9       1000005  P00274942      M  26-35          20             A   \n",
              "...         ...        ...    ...    ...         ...           ...   \n",
              "185450  1004588  P00260042      F  26-35           4             C   \n",
              "187076  1004871  P00242742      M  18-25          12             C   \n",
              "221494  1004113  P00351842      M  36-45          17             C   \n",
              "229480  1005391  P00339342      M  26-35           7             A   \n",
              "243533  1001529  P00000242      M  18-25           4             C   \n",
              "\n",
              "       Stay_In_Current_City_Years  Marital_Status  Product_Category_1  \\\n",
              "0                               2               0                   3   \n",
              "4                              4+               0                   8   \n",
              "5                               3               0                   1   \n",
              "6                               2               1                   1   \n",
              "9                               1               1                   8   \n",
              "...                           ...             ...                 ...   \n",
              "185450                          0               0                   5   \n",
              "187076                          2               0                   1   \n",
              "221494                          3               0                   5   \n",
              "229480                          0               0                   1   \n",
              "243533                         4+               1                   2   \n",
              "\n",
              "        Product_Category_2  Product_Category_3  Purchase  \n",
              "0                      NaN                 NaN      8370  \n",
              "4                      NaN                 NaN      7969  \n",
              "5                      2.0                 NaN     15227  \n",
              "6                      8.0                17.0     19215  \n",
              "9                      NaN                 NaN      7871  \n",
              "...                    ...                 ...       ...  \n",
              "185450                 8.0                 NaN      8707  \n",
              "187076                 2.0                 9.0     15389  \n",
              "221494                 NaN                 NaN      5183  \n",
              "229480                 NaN                 NaN     15831  \n",
              "243533                 4.0                 9.0      9888  \n",
              "\n",
              "[5891 rows x 12 columns]"
            ]
          },
          "execution_count": 23,
          "metadata": {},
          "output_type": "execute_result"
        }
      ],
      "source": [
        "df.drop_duplicates(subset='User_ID' , inplace=False)"
      ]
    },
    {
      "cell_type": "markdown",
      "id": "20b81954",
      "metadata": {
        "id": "20b81954"
      },
      "source": [
        "Como podemos ver, os valores na variável User_ID são todos exclusivos agora.\n",
        "\n",
        "Portanto, é assim que a detecção e a remoção de observações/valores duplicados são feitas em umDataframe"
      ]
    },
    {
      "cell_type": "markdown",
      "id": "555c3243",
      "metadata": {
        "id": "555c3243"
      },
      "source": [
        "## Lidando com valores atípicos\n",
        "\n",
        "O que são Outliers? Outliers são os valores extremos no lado baixo e alto dos dados. O tratamento de valores atípicos envolve 2 etapas: detecção de valores atípicos e tratamento de valores atípicos.\n",
        "\n",
        "Detectando valores discrepantes\n",
        "\n",
        "Para isso, consideramos qualquer variável do nosso quadro de dados e determinamos o corte superior  e o corte inferior com a ajuda de qualquer um dos 3 métodos, a saber:\n",
        "\n",
        "Método do percentil\n",
        "Método IQR\n",
        "Método de desvio padrão\n",
        "\n",
        "Vamos considerar a variável Compra(Purchase) . Agora, determinaremos se existem outliers em nosso conjunto de dados usando o método IQR (intervalo interquartil) . Do que se trata esse método? Você ficará sabendo disso à medida que avançamos no processo, então vamos começar. Encontrando o mínimo(p0), máximo(p100), primeiro quartil(q1), segundo quartil(q2), o terceiro quartil(q3) e o iqr(intervalo interquartil) dos valores na variável Purchase."
      ]
    },
    {
      "cell_type": "code",
      "execution_count": null,
      "id": "5c0e69a1",
      "metadata": {
        "id": "5c0e69a1"
      },
      "outputs": [],
      "source": [
        "p0=df.Purchase.min()\n",
        "p100=df.Purchase.max()\n",
        "q1=df.Purchase.quantile(0.25)\n",
        "q2=df.Purchase.quantile(0.5)\n",
        "q3=df.Purchase.quantile(0.75)\n",
        "iqr=q3-q1"
      ]
    },
    {
      "cell_type": "markdown",
      "id": "9c8f559b",
      "metadata": {
        "id": "9c8f559b"
      },
      "source": [
        "Agora, como temos todos os valores, precisamos encontrar o corte inferior ( lc ) e o corte superior ( uc ) dos valores."
      ]
    },
    {
      "cell_type": "code",
      "execution_count": null,
      "id": "8c12a194",
      "metadata": {
        "id": "8c12a194"
      },
      "outputs": [],
      "source": [
        "lc = q1 - 1.5*iqr\n",
        "uc = q3 + 1.5*iqr"
      ]
    },
    {
      "cell_type": "code",
      "execution_count": null,
      "id": "05c21cb6",
      "metadata": {
        "id": "05c21cb6",
        "outputId": "e5122e40-cfd2-4a43-db51-19fd0f7dc76d"
      },
      "outputs": [
        {
          "data": {
            "text/plain": [
              "-3523.5"
            ]
          },
          "execution_count": 27,
          "metadata": {},
          "output_type": "execute_result"
        }
      ],
      "source": [
        "lc"
      ]
    },
    {
      "cell_type": "code",
      "execution_count": null,
      "id": "c5b43431",
      "metadata": {
        "id": "c5b43431",
        "outputId": "2ee5d60f-ed5c-4b2c-e3a5-b86c75a208ad"
      },
      "outputs": [
        {
          "data": {
            "text/plain": [
              "21400.5"
            ]
          },
          "execution_count": 28,
          "metadata": {},
          "output_type": "execute_result"
        }
      ],
      "source": [
        "uc"
      ]
    },
    {
      "cell_type": "markdown",
      "id": "f12e58e8",
      "metadata": {
        "id": "f12e58e8"
      },
      "source": [
        "Temos o uppercut off e o low cutoff, e agora? Usaremos a convenção:\n",
        "\n",
        "Se lc < p0 → Não há outliers no lado inferior\n",
        "\n",
        "Se uc > p100 → Não há valores atípicos no lado superior"
      ]
    },
    {
      "cell_type": "code",
      "execution_count": null,
      "id": "875339e7",
      "metadata": {
        "id": "875339e7",
        "outputId": "7e5cd567-6e0e-4c85-d6ca-184bceffd095"
      },
      "outputs": [
        {
          "name": "stdout",
          "output_type": "stream",
          "text": [
            "p0 =  12 , p100 =  23961 , lc =  -3523.5 , uc =  21400.5\n"
          ]
        }
      ],
      "source": [
        "print( \"p0 = \" , p0 ,\", p100 = \" , p100 ,\", lc = \" , lc ,\", uc = \" , uc)"
      ]
    },
    {
      "cell_type": "markdown",
      "id": "3a1f07cd",
      "metadata": {
        "id": "3a1f07cd"
      },
      "source": [
        "Claramente lc < p0 então não há outliers no lado inferior. Mas uc < p100, então existem valores discrepantes no lado superior. Podemos obter uma representação pictórica do outlier desenhando o box plot ."
      ]
    },
    {
      "cell_type": "code",
      "execution_count": null,
      "id": "641a0ca5",
      "metadata": {
        "id": "641a0ca5",
        "outputId": "6948be48-70e1-4883-82d7-144215acad13"
      },
      "outputs": [
        {
          "data": {
            "text/plain": [
              "<AxesSubplot:>"
            ]
          },
          "execution_count": 30,
          "metadata": {},
          "output_type": "execute_result"
        },
        {
          "data": {
            "image/png": "[encoded data removed]",
            "text/plain": [
              "<Figure size 432x288 with 1 Axes>"
            ]
          },
          "metadata": {
            "needs_background": "light"
          },
          "output_type": "display_data"
        }
      ],
      "source": [
        "df.Purchase.plot(kind='box')"
      ]
    },
    {
      "cell_type": "markdown",
      "id": "3e6cb313",
      "metadata": {
        "id": "3e6cb313"
      },
      "source": [
        "Agora, uma vez que detectamos os valores discrepantes, é hora de tratá-los."
      ]
    },
    {
      "cell_type": "markdown",
      "id": "731632b5",
      "metadata": {
        "id": "731632b5"
      },
      "source": [
        "## Tratamento Outlier\n",
        "\n",
        "Não se preocupe com a perda de dados, pois aqui não vamos remover nenhum valor da variável, mas sim cortá - los. Nesse processo, substituímos os valores que estão fora do intervalo pelo corte inferior ou superior de acordo. Com isso, os outliers são removidos dos dados e obtemos todos os dados dentro do intervalo.\n",
        "\n",
        "Recortando todos os valores maiores que o corte superior para o corte superior:"
      ]
    },
    {
      "cell_type": "code",
      "execution_count": null,
      "id": "ad680833",
      "metadata": {
        "id": "ad680833",
        "outputId": "49fd3e2c-13a0-4756-98f5-163ae642a723"
      },
      "outputs": [
        {
          "data": {
            "text/plain": [
              "0          8370.0\n",
              "1         15200.0\n",
              "2          1422.0\n",
              "3          1057.0\n",
              "4          7969.0\n",
              "           ...   \n",
              "550063      368.0\n",
              "550064      371.0\n",
              "550065      137.0\n",
              "550066      365.0\n",
              "550067      490.0\n",
              "Name: Purchase, Length: 550068, dtype: float64"
            ]
          },
          "execution_count": 31,
          "metadata": {},
          "output_type": "execute_result"
        }
      ],
      "source": [
        "df.Purchase.clip(upper=uc)"
      ]
    },
    {
      "cell_type": "markdown",
      "id": "17de207b",
      "metadata": {
        "id": "17de207b"
      },
      "source": [
        "Para finalmente tratar os valores discrepantes e tornar as alterações permanentes:"
      ]
    },
    {
      "cell_type": "code",
      "execution_count": null,
      "id": "91d8bd02",
      "metadata": {
        "id": "91d8bd02",
        "outputId": "199e3bbd-bf66-4d87-886f-8f11c3facc2c"
      },
      "outputs": [
        {
          "data": {
            "text/plain": [
              "<AxesSubplot:>"
            ]
          },
          "execution_count": 32,
          "metadata": {},
          "output_type": "execute_result"
        },
        {
          "data": {
            "image/png": "[encoded data removed]",
            "text/plain": [
              "<Figure size 432x288 with 1 Axes>"
            ]
          },
          "metadata": {
            "needs_background": "light"
          },
          "output_type": "display_data"
        }
      ],
      "source": [
        "df.Purchase.clip(upper=uc,inplace=True)\n",
        "df.Purchase.plot(kind='box')"
      ]
    },
    {
      "cell_type": "markdown",
      "id": "bb1a5dfa",
      "metadata": {
        "id": "bb1a5dfa"
      },
      "source": [
        "## Como lidar com valores ausentes\n",
        "O que são valores ausentes? Valores Omissos são os valores desconhecidos nos dados. Isso envolve 2 etapas: Detectar os valores ausentes e Tratamento dos valores ausentes\n",
        "\n",
        "Detectando os valores ausentes"
      ]
    },
    {
      "cell_type": "code",
      "execution_count": null,
      "id": "52db6913",
      "metadata": {
        "id": "52db6913",
        "outputId": "a9f1060d-a7be-42b1-fcee-69bc025bd429"
      },
      "outputs": [
        {
          "data": {
            "text/html": [
              "<div>\n",
              "<style scoped>\n",
              "    .dataframe tbody tr th:only-of-type {\n",
              "        vertical-align: middle;\n",
              "    }\n",
              "\n",
              "    .dataframe tbody tr th {\n",
              "        vertical-align: top;\n",
              "    }\n",
              "\n",
              "    .dataframe thead th {\n",
              "        text-align: right;\n",
              "    }\n",
              "</style>\n",
              "<table border=\"1\" class=\"dataframe\">\n",
              "  <thead>\n",
              "    <tr style=\"text-align: right;\">\n",
              "      <th></th>\n",
              "      <th>User_ID</th>\n",
              "      <th>Product_ID</th>\n",
              "      <th>Gender</th>\n",
              "      <th>Age</th>\n",
              "      <th>Occupation</th>\n",
              "      <th>City_Category</th>\n",
              "      <th>Stay_In_Current_City_Years</th>\n",
              "      <th>Marital_Status</th>\n",
              "      <th>Product_Category_1</th>\n",
              "      <th>Product_Category_2</th>\n",
              "      <th>Product_Category_3</th>\n",
              "      <th>Purchase</th>\n",
              "    </tr>\n",
              "  </thead>\n",
              "  <tbody>\n",
              "    <tr>\n",
              "      <th>0</th>\n",
              "      <td>False</td>\n",
              "      <td>False</td>\n",
              "      <td>False</td>\n",
              "      <td>False</td>\n",
              "      <td>False</td>\n",
              "      <td>False</td>\n",
              "      <td>False</td>\n",
              "      <td>False</td>\n",
              "      <td>False</td>\n",
              "      <td>True</td>\n",
              "      <td>True</td>\n",
              "      <td>False</td>\n",
              "    </tr>\n",
              "    <tr>\n",
              "      <th>1</th>\n",
              "      <td>False</td>\n",
              "      <td>False</td>\n",
              "      <td>False</td>\n",
              "      <td>False</td>\n",
              "      <td>False</td>\n",
              "      <td>False</td>\n",
              "      <td>False</td>\n",
              "      <td>False</td>\n",
              "      <td>False</td>\n",
              "      <td>False</td>\n",
              "      <td>False</td>\n",
              "      <td>False</td>\n",
              "    </tr>\n",
              "    <tr>\n",
              "      <th>2</th>\n",
              "      <td>False</td>\n",
              "      <td>False</td>\n",
              "      <td>False</td>\n",
              "      <td>False</td>\n",
              "      <td>False</td>\n",
              "      <td>False</td>\n",
              "      <td>False</td>\n",
              "      <td>False</td>\n",
              "      <td>False</td>\n",
              "      <td>True</td>\n",
              "      <td>True</td>\n",
              "      <td>False</td>\n",
              "    </tr>\n",
              "    <tr>\n",
              "      <th>3</th>\n",
              "      <td>False</td>\n",
              "      <td>False</td>\n",
              "      <td>False</td>\n",
              "      <td>False</td>\n",
              "      <td>False</td>\n",
              "      <td>False</td>\n",
              "      <td>False</td>\n",
              "      <td>False</td>\n",
              "      <td>False</td>\n",
              "      <td>False</td>\n",
              "      <td>True</td>\n",
              "      <td>False</td>\n",
              "    </tr>\n",
              "    <tr>\n",
              "      <th>4</th>\n",
              "      <td>False</td>\n",
              "      <td>False</td>\n",
              "      <td>False</td>\n",
              "      <td>False</td>\n",
              "      <td>False</td>\n",
              "      <td>False</td>\n",
              "      <td>False</td>\n",
              "      <td>False</td>\n",
              "      <td>False</td>\n",
              "      <td>True</td>\n",
              "      <td>True</td>\n",
              "      <td>False</td>\n",
              "    </tr>\n",
              "    <tr>\n",
              "      <th>...</th>\n",
              "      <td>...</td>\n",
              "      <td>...</td>\n",
              "      <td>...</td>\n",
              "      <td>...</td>\n",
              "      <td>...</td>\n",
              "      <td>...</td>\n",
              "      <td>...</td>\n",
              "      <td>...</td>\n",
              "      <td>...</td>\n",
              "      <td>...</td>\n",
              "      <td>...</td>\n",
              "      <td>...</td>\n",
              "    </tr>\n",
              "    <tr>\n",
              "      <th>550063</th>\n",
              "      <td>False</td>\n",
              "      <td>False</td>\n",
              "      <td>False</td>\n",
              "      <td>False</td>\n",
              "      <td>False</td>\n",
              "      <td>False</td>\n",
              "      <td>False</td>\n",
              "      <td>False</td>\n",
              "      <td>False</td>\n",
              "      <td>True</td>\n",
              "      <td>True</td>\n",
              "      <td>False</td>\n",
              "    </tr>\n",
              "    <tr>\n",
              "      <th>550064</th>\n",
              "      <td>False</td>\n",
              "      <td>False</td>\n",
              "      <td>False</td>\n",
              "      <td>False</td>\n",
              "      <td>False</td>\n",
              "      <td>False</td>\n",
              "      <td>False</td>\n",
              "      <td>False</td>\n",
              "      <td>False</td>\n",
              "      <td>True</td>\n",
              "      <td>True</td>\n",
              "      <td>False</td>\n",
              "    </tr>\n",
              "    <tr>\n",
              "      <th>550065</th>\n",
              "      <td>False</td>\n",
              "      <td>False</td>\n",
              "      <td>False</td>\n",
              "      <td>False</td>\n",
              "      <td>False</td>\n",
              "      <td>False</td>\n",
              "      <td>False</td>\n",
              "      <td>False</td>\n",
              "      <td>False</td>\n",
              "      <td>True</td>\n",
              "      <td>True</td>\n",
              "      <td>False</td>\n",
              "    </tr>\n",
              "    <tr>\n",
              "      <th>550066</th>\n",
              "      <td>False</td>\n",
              "      <td>False</td>\n",
              "      <td>False</td>\n",
              "      <td>False</td>\n",
              "      <td>False</td>\n",
              "      <td>False</td>\n",
              "      <td>False</td>\n",
              "      <td>False</td>\n",
              "      <td>False</td>\n",
              "      <td>True</td>\n",
              "      <td>True</td>\n",
              "      <td>False</td>\n",
              "    </tr>\n",
              "    <tr>\n",
              "      <th>550067</th>\n",
              "      <td>False</td>\n",
              "      <td>False</td>\n",
              "      <td>False</td>\n",
              "      <td>False</td>\n",
              "      <td>False</td>\n",
              "      <td>False</td>\n",
              "      <td>False</td>\n",
              "      <td>False</td>\n",
              "      <td>False</td>\n",
              "      <td>True</td>\n",
              "      <td>True</td>\n",
              "      <td>False</td>\n",
              "    </tr>\n",
              "  </tbody>\n",
              "</table>\n",
              "<p>550068 rows × 12 columns</p>\n",
              "</div>"
            ],
            "text/plain": [
              "        User_ID  Product_ID  Gender    Age  Occupation  City_Category  \\\n",
              "0         False       False   False  False       False          False   \n",
              "1         False       False   False  False       False          False   \n",
              "2         False       False   False  False       False          False   \n",
              "3         False       False   False  False       False          False   \n",
              "4         False       False   False  False       False          False   \n",
              "...         ...         ...     ...    ...         ...            ...   \n",
              "550063    False       False   False  False       False          False   \n",
              "550064    False       False   False  False       False          False   \n",
              "550065    False       False   False  False       False          False   \n",
              "550066    False       False   False  False       False          False   \n",
              "550067    False       False   False  False       False          False   \n",
              "\n",
              "        Stay_In_Current_City_Years  Marital_Status  Product_Category_1  \\\n",
              "0                            False           False               False   \n",
              "1                            False           False               False   \n",
              "2                            False           False               False   \n",
              "3                            False           False               False   \n",
              "4                            False           False               False   \n",
              "...                            ...             ...                 ...   \n",
              "550063                       False           False               False   \n",
              "550064                       False           False               False   \n",
              "550065                       False           False               False   \n",
              "550066                       False           False               False   \n",
              "550067                       False           False               False   \n",
              "\n",
              "        Product_Category_2  Product_Category_3  Purchase  \n",
              "0                     True                True     False  \n",
              "1                    False               False     False  \n",
              "2                     True                True     False  \n",
              "3                    False                True     False  \n",
              "4                     True                True     False  \n",
              "...                    ...                 ...       ...  \n",
              "550063                True                True     False  \n",
              "550064                True                True     False  \n",
              "550065                True                True     False  \n",
              "550066                True                True     False  \n",
              "550067                True                True     False  \n",
              "\n",
              "[550068 rows x 12 columns]"
            ]
          },
          "execution_count": 33,
          "metadata": {},
          "output_type": "execute_result"
        }
      ],
      "source": [
        "df.isna()"
      ]
    },
    {
      "cell_type": "markdown",
      "id": "a03f281b",
      "metadata": {
        "id": "a03f281b"
      },
      "source": [
        "df.isna() retorna True para os valores ausentes e False para os valores não ausentes.\n",
        "\n",
        "Aqui vamos descobrir a porcentagem de valores ausentes em cada variável."
      ]
    },
    {
      "cell_type": "code",
      "execution_count": null,
      "id": "cae0d0dd",
      "metadata": {
        "id": "cae0d0dd",
        "outputId": "d9adf174-83ca-4e7c-af7b-e832e6425cd5"
      },
      "outputs": [
        {
          "data": {
            "text/plain": [
              "User_ID                       0.000000\n",
              "Product_ID                    0.000000\n",
              "Gender                        0.000000\n",
              "Age                           0.000000\n",
              "Occupation                    0.000000\n",
              "City_Category                 0.000000\n",
              "Stay_In_Current_City_Years    0.000000\n",
              "Marital_Status                0.000000\n",
              "Product_Category_1            0.000000\n",
              "Product_Category_2            0.315666\n",
              "Product_Category_3            0.696727\n",
              "Purchase                      0.000000\n",
              "dtype: float64"
            ]
          },
          "execution_count": 34,
          "metadata": {},
          "output_type": "execute_result"
        }
      ],
      "source": [
        "df.isna().sum()/df.shape[0]"
      ]
    },
    {
      "cell_type": "markdown",
      "id": "0b05dbcd",
      "metadata": {
        "id": "0b05dbcd"
      },
      "source": [
        "E obtemos da saída que temos valores ausentes em nosso quadro de dados em 2 variáveis: Product_Category_2 e Product_Category_3 , então a detecção é feita."
      ]
    },
    {
      "cell_type": "markdown",
      "id": "f434c50b",
      "metadata": {
        "id": "f434c50b"
      },
      "source": [
        "## Tratamento de valor ausente\n",
        "Para tratar os valores ausentes, podemos optar por um método a partir do seguinte:\n",
        "\n",
        "Solte a variável\n",
        "Abandone a(s) observação(ões)\n",
        "Atribuição de valor ausente\n",
        "Para a variável Product_Category_2 , 31,56% dos valores estão ausentes. Não devemos descartar um número tão grande de observações nem devemos descartar a própria variável, portanto, iremos para a imputação. A imputação de dados é feita na série . Aqui, substituímos os valores ausentes por algum valor que pode ser estático, médio, mediano, moda ou uma saída de um modelo preditivo.\n",
        "\n",
        "Como é uma variável categórica , vamos imputar os valores por modo ."
      ]
    },
    {
      "cell_type": "code",
      "execution_count": null,
      "id": "b05d4100",
      "metadata": {
        "id": "b05d4100"
      },
      "outputs": [],
      "source": [
        "df.Product_Category_2.mode()[0] \n",
        "df.Product_Category_2.fillna(df.Product_Category_2.mode()[0],inplace=True)"
      ]
    },
    {
      "cell_type": "markdown",
      "id": "e84968d3",
      "metadata": {
        "id": "e84968d3"
      },
      "source": [
        "## Pronto!"
      ]
    },
    {
      "cell_type": "code",
      "execution_count": null,
      "id": "088207eb",
      "metadata": {
        "id": "088207eb",
        "outputId": "b42ce9e9-bae3-4815-c585-4f536d623f6b"
      },
      "outputs": [
        {
          "data": {
            "text/plain": [
              "User_ID                            0\n",
              "Product_ID                         0\n",
              "Gender                             0\n",
              "Age                                0\n",
              "Occupation                         0\n",
              "City_Category                      0\n",
              "Stay_In_Current_City_Years         0\n",
              "Marital_Status                     0\n",
              "Product_Category_1                 0\n",
              "Product_Category_2                 0\n",
              "Product_Category_3            383247\n",
              "Purchase                           0\n",
              "dtype: int64"
            ]
          },
          "execution_count": 36,
          "metadata": {},
          "output_type": "execute_result"
        }
      ],
      "source": [
        "# Confirmando a presença de valores ausentes\n",
        "df.isna().sum()"
      ]
    },
    {
      "cell_type": "markdown",
      "id": "2666c808",
      "metadata": {
        "id": "2666c808"
      },
      "source": [
        "Para a variável Product_Category_3 , 69,67% dos valores estão faltando, o que é muito, portanto, vamos descartar essa variável."
      ]
    },
    {
      "cell_type": "code",
      "execution_count": null,
      "id": "6ea15352",
      "metadata": {
        "id": "6ea15352"
      },
      "outputs": [],
      "source": [
        "df.dropna(axis=1,inplace=True)"
      ]
    },
    {
      "cell_type": "markdown",
      "id": "af27795b",
      "metadata": {
        "id": "af27795b"
      },
      "source": [
        "## Como verificar?"
      ]
    },
    {
      "cell_type": "code",
      "execution_count": null,
      "id": "1a18e126",
      "metadata": {
        "id": "1a18e126",
        "outputId": "a09c0715-3f15-409f-9afa-908d35d18d15"
      },
      "outputs": [
        {
          "data": {
            "text/plain": [
              "User_ID                         int64\n",
              "Product_ID                     object\n",
              "Gender                         object\n",
              "Age                            object\n",
              "Occupation                      int64\n",
              "City_Category                  object\n",
              "Stay_In_Current_City_Years     object\n",
              "Marital_Status                  int64\n",
              "Product_Category_1              int64\n",
              "Product_Category_2            float64\n",
              "Purchase                      float64\n",
              "dtype: object"
            ]
          },
          "execution_count": 38,
          "metadata": {},
          "output_type": "execute_result"
        }
      ],
      "source": [
        "df.dtypes"
      ]
    },
    {
      "cell_type": "markdown",
      "id": "649d9fd3",
      "metadata": {
        "id": "649d9fd3"
      },
      "source": [
        "## Análise usando gráficos"
      ]
    },
    {
      "cell_type": "markdown",
      "id": "1ba02ff0",
      "metadata": {
        "id": "1ba02ff0"
      },
      "source": [
        "## Análise Univariada\n",
        "Nesse tipo de análise, usamos uma única variável e plotamos gráficos nela. Aqui os gráficos são criados para ver a distribuição e a composição dos dados dependendo do tipo de variável, nomeadamente categórica ou numérica.\n",
        "\n",
        "Para Variáveis ​​Contínuas:  Para ver a distribuição dos dados, criamos Box plots e Histogramas.\n",
        "\n",
        "Distribuição de Compra \n",
        "\n",
        "Histograma"
      ]
    },
    {
      "cell_type": "code",
      "execution_count": null,
      "id": "7951eee2",
      "metadata": {
        "id": "7951eee2",
        "outputId": "81b283b1-9853-45c4-ff95-9725b8e9225c"
      },
      "outputs": [
        {
          "data": {
            "text/plain": [
              "<AxesSubplot:>"
            ]
          },
          "execution_count": 40,
          "metadata": {},
          "output_type": "execute_result"
        },
        {
          "data": {
            "image/png": "[encoded data removed]",
            "text/plain": [
              "<Figure size 432x288 with 1 Axes>"
            ]
          },
          "metadata": {
            "needs_background": "light"
          },
          "output_type": "display_data"
        }
      ],
      "source": [
        "df.Purchase.hist()"
      ]
    },
    {
      "cell_type": "markdown",
      "id": "4eaf2ed4",
      "metadata": {
        "id": "4eaf2ed4"
      },
      "source": [
        "Criamos este histograma usando o método hist() da Series , mas existe outro método também conhecido como plot() pelo qual podemos criar muito mais gráficos."
      ]
    },
    {
      "cell_type": "code",
      "execution_count": null,
      "id": "a00bc6f6",
      "metadata": {
        "id": "a00bc6f6",
        "outputId": "3b0e8a19-3a74-4de8-cbae-94b8f0af081a"
      },
      "outputs": [
        {
          "data": {
            "image/png": "[encoded data removed]",
            "text/plain": [
              "<Figure size 432x288 with 1 Axes>"
            ]
          },
          "metadata": {
            "needs_background": "light"
          },
          "output_type": "display_data"
        }
      ],
      "source": [
        "df.Purchase.plot(kind='hist' , grid = True) \n",
        "plt.show()"
      ]
    },
    {
      "cell_type": "markdown",
      "id": "9a53924f",
      "metadata": {
        "id": "9a53924f"
      },
      "source": [
        "Temos outra maneira de criar este gráfico usando diretamente o matplotlib !"
      ]
    },
    {
      "cell_type": "code",
      "execution_count": null,
      "id": "38671ab0",
      "metadata": {
        "id": "38671ab0",
        "outputId": "77f18c88-d4bf-4f7f-c094-31ec0d2b2e8a"
      },
      "outputs": [
        {
          "data": {
            "image/png": "[encoded data removed]",
            "text/plain": [
              "<Figure size 432x288 with 1 Axes>"
            ]
          },
          "metadata": {
            "needs_background": "light"
          },
          "output_type": "display_data"
        }
      ],
      "source": [
        "plt.hist(df.Purchase) \n",
        "plt.grid(True) \n",
        "plt.show()"
      ]
    },
    {
      "cell_type": "markdown",
      "id": "9be158b4",
      "metadata": {
        "id": "9be158b4"
      },
      "source": [
        "Gráfico de caixa"
      ]
    },
    {
      "cell_type": "code",
      "execution_count": null,
      "id": "7e0aa344",
      "metadata": {
        "id": "7e0aa344",
        "outputId": "200e6e06-25f5-4af7-fb97-82b2ce08c318"
      },
      "outputs": [
        {
          "data": {
            "image/png": "[encoded data removed]",
            "text/plain": [
              "<Figure size 432x288 with 1 Axes>"
            ]
          },
          "metadata": {
            "needs_background": "light"
          },
          "output_type": "display_data"
        }
      ],
      "source": [
        "df.Purchase.plot(kind='box') \n",
        "plt.show()"
      ]
    },
    {
      "cell_type": "code",
      "execution_count": null,
      "id": "632bb0ff",
      "metadata": {
        "id": "632bb0ff",
        "outputId": "5bb10f41-1744-4704-898e-8d542086f71c"
      },
      "outputs": [
        {
          "data": {
            "image/png": "[encoded data removed]",
            "text/plain": [
              "<Figure size 432x288 with 1 Axes>"
            ]
          },
          "metadata": {
            "needs_background": "light"
          },
          "output_type": "display_data"
        }
      ],
      "source": [
        "plt.boxplot(df.Purchase) \n",
        "plt.show()"
      ]
    },
    {
      "cell_type": "markdown",
      "id": "35ac1779",
      "metadata": {
        "id": "35ac1779"
      },
      "source": [
        "Para variáveis ​​categóricas: \n",
        "\n",
        "Para ver a distribuição dos dados, criamos gráficos de frequência como gráficos de barras, gráficos de barras horizontais, etc.\n",
        "Para ver a composição dos dados, criamos gráficos de pizza.\n",
        "Composição de Gênero"
      ]
    },
    {
      "cell_type": "code",
      "execution_count": null,
      "id": "5673ab1b",
      "metadata": {
        "id": "5673ab1b",
        "outputId": "a219c81b-d2b5-4b5b-c83e-0b1d49fd602b"
      },
      "outputs": [
        {
          "data": {
            "image/png": "[encoded data removed]",
            "text/plain": [
              "<Figure size 432x288 with 1 Axes>"
            ]
          },
          "metadata": {},
          "output_type": "display_data"
        }
      ],
      "source": [
        "df.groupby('Gender').City_Category.count().plot(kind='pie') \n",
        "plt.show()"
      ]
    },
    {
      "cell_type": "markdown",
      "id": "f8d57bb1",
      "metadata": {
        "id": "f8d57bb1"
      },
      "source": [
        "Distribuição do Estado_conjugal"
      ]
    },
    {
      "cell_type": "code",
      "execution_count": null,
      "id": "41b867df",
      "metadata": {
        "id": "41b867df",
        "outputId": "dfc93edf-7a71-4efa-90cb-b614d9f08d75"
      },
      "outputs": [
        {
          "name": "stderr",
          "output_type": "stream",
          "text": [
            "C:\\Users\\Bueno\\anaconda3\\lib\\site-packages\\seaborn\\_decorators.py:36: FutureWarning: Pass the following variable as a keyword arg: x. From version 0.12, the only valid positional argument will be `data`, and passing other arguments without an explicit keyword will result in an error or misinterpretation.\n",
            "  warnings.warn(\n"
          ]
        },
        {
          "data": {
            "image/png": "[encoded data removed]",
            "text/plain": [
              "<Figure size 432x288 with 1 Axes>"
            ]
          },
          "metadata": {
            "needs_background": "light"
          },
          "output_type": "display_data"
        }
      ],
      "source": [
        "sns.countplot(df.Marital_Status) \n",
        "plt.show()"
      ]
    },
    {
      "cell_type": "markdown",
      "id": "85bf6288",
      "metadata": {
        "id": "85bf6288"
      },
      "source": [
        "Composição de City_Category"
      ]
    },
    {
      "cell_type": "code",
      "execution_count": null,
      "id": "bf3b14f0",
      "metadata": {
        "id": "bf3b14f0",
        "outputId": "09923eae-23c2-40d5-c29d-8f3276d6b486"
      },
      "outputs": [
        {
          "data": {
            "image/png": "[encoded data removed]",
            "text/plain": [
              "<Figure size 432x288 with 1 Axes>"
            ]
          },
          "metadata": {},
          "output_type": "display_data"
        }
      ],
      "source": [
        "df.groupby('City_Category').City_Category.count().plot(kind='pie') \n",
        "plt.show()"
      ]
    },
    {
      "cell_type": "markdown",
      "id": "66e7c4c8",
      "metadata": {
        "id": "66e7c4c8"
      },
      "source": [
        "Distribuição de idade"
      ]
    },
    {
      "cell_type": "code",
      "execution_count": null,
      "id": "a06729aa",
      "metadata": {
        "id": "a06729aa",
        "outputId": "071ab716-d7cd-476f-9774-83d6609b7406"
      },
      "outputs": [
        {
          "name": "stderr",
          "output_type": "stream",
          "text": [
            "C:\\Users\\Bueno\\anaconda3\\lib\\site-packages\\seaborn\\_decorators.py:36: FutureWarning: Pass the following variable as a keyword arg: x. From version 0.12, the only valid positional argument will be `data`, and passing other arguments without an explicit keyword will result in an error or misinterpretation.\n",
            "  warnings.warn(\n"
          ]
        },
        {
          "data": {
            "image/png": "[encoded data removed]",
            "text/plain": [
              "<Figure size 432x288 with 1 Axes>"
            ]
          },
          "metadata": {
            "needs_background": "light"
          },
          "output_type": "display_data"
        }
      ],
      "source": [
        "sns.countplot(df.Age) \n",
        "plt.show()"
      ]
    },
    {
      "cell_type": "markdown",
      "id": "5c07ee86",
      "metadata": {
        "id": "5c07ee86"
      },
      "source": [
        "Composição de Stay_In_Current_City_Years"
      ]
    },
    {
      "cell_type": "code",
      "execution_count": null,
      "id": "a9330f7b",
      "metadata": {
        "id": "a9330f7b",
        "outputId": "aab2d9b2-173d-4d8b-8a0d-d8f6b195442c"
      },
      "outputs": [
        {
          "data": {
            "image/png": "[encoded data removed]",
            "text/plain": [
              "<Figure size 432x288 with 1 Axes>"
            ]
          },
          "metadata": {},
          "output_type": "display_data"
        }
      ],
      "source": [
        "df.groupby('Stay_In_Current_City_Years').City_Category.count().plot(kind='pie') \n",
        "plt.show()"
      ]
    },
    {
      "cell_type": "markdown",
      "id": "15c2b7d6",
      "metadata": {
        "id": "15c2b7d6"
      },
      "source": [
        "Distribuição de Ocupação"
      ]
    },
    {
      "cell_type": "code",
      "execution_count": null,
      "id": "1306f6bb",
      "metadata": {
        "id": "1306f6bb",
        "outputId": "e0f3d0be-19a1-434a-cb33-9c8811361fca"
      },
      "outputs": [
        {
          "name": "stderr",
          "output_type": "stream",
          "text": [
            "C:\\Users\\Bueno\\anaconda3\\lib\\site-packages\\seaborn\\_decorators.py:36: FutureWarning: Pass the following variable as a keyword arg: x. From version 0.12, the only valid positional argument will be `data`, and passing other arguments without an explicit keyword will result in an error or misinterpretation.\n",
            "  warnings.warn(\n"
          ]
        },
        {
          "data": {
            "image/png": "[encoded data removed]",
            "text/plain": [
              "<Figure size 432x288 with 1 Axes>"
            ]
          },
          "metadata": {
            "needs_background": "light"
          },
          "output_type": "display_data"
        }
      ],
      "source": [
        "sns.countplot(df.Occupation) \n",
        "plt.show()"
      ]
    },
    {
      "cell_type": "markdown",
      "id": "c82c4d2b",
      "metadata": {
        "id": "c82c4d2b"
      },
      "source": [
        "Distribuição de Product_Category_1"
      ]
    },
    {
      "cell_type": "code",
      "execution_count": null,
      "id": "5443b52c",
      "metadata": {
        "id": "5443b52c",
        "outputId": "7ccfa05d-b310-4792-e97d-a42de253912e"
      },
      "outputs": [
        {
          "data": {
            "image/png": "[encoded data removed]",
            "text/plain": [
              "<Figure size 432x288 with 1 Axes>"
            ]
          },
          "metadata": {
            "needs_background": "light"
          },
          "output_type": "display_data"
        }
      ],
      "source": [
        "df.groupby('Product_Category_1').City_Category.count().plot(kind='barh') \n",
        "plt.show()"
      ]
    },
    {
      "cell_type": "markdown",
      "id": "2c78cb58",
      "metadata": {
        "id": "2c78cb58"
      },
      "source": [
        "## Nesse tipo de análise, pegamos duas variáveis por vez e criamos gráficos sobre elas. Como temos 2 tipos de variáveis ​​Categórica e Numérica, pode haver 3 casos na análise bivariada:\n",
        "\n",
        "Numérico e Numérico:  Para ver a relação entre as 2 variáveis ​​criamos Scatter Plots e uma Matriz de Correlação com um Heatmap no topo.\n",
        "\n",
        "Gráfico de dispersão\n",
        "\n",
        "Como há apenas 1 variável numérica em nosso conjunto de dados, não podemos criar o gráfico de dispersão aqui. Mas como podemos fazer isso? Vamos dar um exemplo hipotético em que consideramos todas as variáveis ​​numéricas (tendo dtype como int ou float) aqui como variáveis ​​numéricas.\n",
        "\n",
        "Considerando 2 variáveis ​​categóricas Product_Category_1 e Product_Category_2"
      ]
    },
    {
      "cell_type": "code",
      "execution_count": null,
      "id": "347ff0f8",
      "metadata": {
        "id": "347ff0f8",
        "outputId": "9f9ad8e0-f354-4527-d4fd-61e887f67019"
      },
      "outputs": [
        {
          "data": {
            "image/png": "[encoded data removed]",
            "text/plain": [
              "<Figure size 432x288 with 1 Axes>"
            ]
          },
          "metadata": {
            "needs_background": "light"
          },
          "output_type": "display_data"
        }
      ],
      "source": [
        "df.plot(x='Product_Category_1',y='Product_Category_2',kind = 'scatter') \n",
        "plt.show()"
      ]
    },
    {
      "cell_type": "code",
      "execution_count": null,
      "id": "a3a25dd4",
      "metadata": {
        "id": "a3a25dd4",
        "outputId": "7d86c711-264f-4263-9cbd-7a892252b354"
      },
      "outputs": [
        {
          "data": {
            "image/png": "[encoded data removed]",
            "text/plain": [
              "<Figure size 432x288 with 1 Axes>"
            ]
          },
          "metadata": {
            "needs_background": "light"
          },
          "output_type": "display_data"
        }
      ],
      "source": [
        "plt.scatter(x=df.Product_Category_1 , y=df.Product_Category_2) \n",
        "plt.show()"
      ]
    },
    {
      "cell_type": "markdown",
      "id": "0fde273d",
      "metadata": {
        "id": "0fde273d"
      },
      "source": [
        "## Matriz de correlação\n",
        "Encontrar uma correlação entre todas as variáveis ​​numéricas."
      ]
    },
    {
      "cell_type": "code",
      "execution_count": null,
      "id": "e89ac9ac",
      "metadata": {
        "id": "e89ac9ac",
        "outputId": "1d218bc5-0a22-43cf-8a07-5ae85340541c"
      },
      "outputs": [
        {
          "data": {
            "text/html": [
              "<div>\n",
              "<style scoped>\n",
              "    .dataframe tbody tr th:only-of-type {\n",
              "        vertical-align: middle;\n",
              "    }\n",
              "\n",
              "    .dataframe tbody tr th {\n",
              "        vertical-align: top;\n",
              "    }\n",
              "\n",
              "    .dataframe thead th {\n",
              "        text-align: right;\n",
              "    }\n",
              "</style>\n",
              "<table border=\"1\" class=\"dataframe\">\n",
              "  <thead>\n",
              "    <tr style=\"text-align: right;\">\n",
              "      <th></th>\n",
              "      <th>User_ID</th>\n",
              "      <th>Occupation</th>\n",
              "      <th>Marital_Status</th>\n",
              "      <th>Product_Category_1</th>\n",
              "      <th>Product_Category_2</th>\n",
              "      <th>Purchase</th>\n",
              "    </tr>\n",
              "  </thead>\n",
              "  <tbody>\n",
              "    <tr>\n",
              "      <th>User_ID</th>\n",
              "      <td>1.000000</td>\n",
              "      <td>-0.023971</td>\n",
              "      <td>0.020443</td>\n",
              "      <td>0.003825</td>\n",
              "      <td>0.002065</td>\n",
              "      <td>0.004608</td>\n",
              "    </tr>\n",
              "    <tr>\n",
              "      <th>Occupation</th>\n",
              "      <td>-0.023971</td>\n",
              "      <td>1.000000</td>\n",
              "      <td>0.024280</td>\n",
              "      <td>-0.007618</td>\n",
              "      <td>0.001566</td>\n",
              "      <td>0.020853</td>\n",
              "    </tr>\n",
              "    <tr>\n",
              "      <th>Marital_Status</th>\n",
              "      <td>0.020443</td>\n",
              "      <td>0.024280</td>\n",
              "      <td>1.000000</td>\n",
              "      <td>0.019888</td>\n",
              "      <td>0.010260</td>\n",
              "      <td>-0.000599</td>\n",
              "    </tr>\n",
              "    <tr>\n",
              "      <th>Product_Category_1</th>\n",
              "      <td>0.003825</td>\n",
              "      <td>-0.007618</td>\n",
              "      <td>0.019888</td>\n",
              "      <td>1.000000</td>\n",
              "      <td>0.279247</td>\n",
              "      <td>-0.347413</td>\n",
              "    </tr>\n",
              "    <tr>\n",
              "      <th>Product_Category_2</th>\n",
              "      <td>0.002065</td>\n",
              "      <td>0.001566</td>\n",
              "      <td>0.010260</td>\n",
              "      <td>0.279247</td>\n",
              "      <td>1.000000</td>\n",
              "      <td>-0.131104</td>\n",
              "    </tr>\n",
              "    <tr>\n",
              "      <th>Purchase</th>\n",
              "      <td>0.004608</td>\n",
              "      <td>0.020853</td>\n",
              "      <td>-0.000599</td>\n",
              "      <td>-0.347413</td>\n",
              "      <td>-0.131104</td>\n",
              "      <td>1.000000</td>\n",
              "    </tr>\n",
              "  </tbody>\n",
              "</table>\n",
              "</div>"
            ],
            "text/plain": [
              "                     User_ID  Occupation  Marital_Status  Product_Category_1  \\\n",
              "User_ID             1.000000   -0.023971        0.020443            0.003825   \n",
              "Occupation         -0.023971    1.000000        0.024280           -0.007618   \n",
              "Marital_Status      0.020443    0.024280        1.000000            0.019888   \n",
              "Product_Category_1  0.003825   -0.007618        0.019888            1.000000   \n",
              "Product_Category_2  0.002065    0.001566        0.010260            0.279247   \n",
              "Purchase            0.004608    0.020853       -0.000599           -0.347413   \n",
              "\n",
              "                    Product_Category_2  Purchase  \n",
              "User_ID                       0.002065  0.004608  \n",
              "Occupation                    0.001566  0.020853  \n",
              "Marital_Status                0.010260 -0.000599  \n",
              "Product_Category_1            0.279247 -0.347413  \n",
              "Product_Category_2            1.000000 -0.131104  \n",
              "Purchase                     -0.131104  1.000000  "
            ]
          },
          "execution_count": 56,
          "metadata": {},
          "output_type": "execute_result"
        }
      ],
      "source": [
        "df.select_dtypes(['float64' , 'int64']).corr()"
      ]
    },
    {
      "cell_type": "markdown",
      "id": "0c22ee89",
      "metadata": {
        "id": "0c22ee89"
      },
      "source": [
        "## Mapa de calor\n",
        "Criando um mapa de calor usando Seaborn no topo da matriz de correlação obtida acima para visualizar a correlação entre as diferentes colunas numéricas dos dados. Isso é feito quando temos um grande número de variáveis."
      ]
    },
    {
      "cell_type": "code",
      "execution_count": null,
      "id": "6b4a566e",
      "metadata": {
        "id": "6b4a566e",
        "outputId": "bcfe3fd7-0dd5-4978-c487-c4c7b90d3829"
      },
      "outputs": [
        {
          "data": {
            "image/png": "[encoded data removed]",
            "text/plain": [
              "<Figure size 432x288 with 2 Axes>"
            ]
          },
          "metadata": {
            "needs_background": "light"
          },
          "output_type": "display_data"
        }
      ],
      "source": [
        "sns.heatmap(df.select_dtypes(['float64' , 'int64']).corr(),annot=True) \n",
        "plt.show()"
      ]
    },
    {
      "cell_type": "markdown",
      "id": "76065cab",
      "metadata": {
        "id": "76065cab"
      },
      "source": [
        "# Numérico e Categórico\n",
        "\n",
        "* Para ver a composição dos dados criamos gráficos de barras e linhas.\n",
        "* Para ver a comparação entre as 2 variáveis ​​criamos gráficos de barras e linhas.\n",
        "\n",
        "\n",
        "Comparação entre Compra e Ocupação: Gráfico de Barras"
      ]
    },
    {
      "cell_type": "code",
      "execution_count": null,
      "id": "5f1aa660",
      "metadata": {
        "id": "5f1aa660",
        "outputId": "ae00cad5-7201-4f86-8711-0af91ed101a1"
      },
      "outputs": [
        {
          "data": {
            "image/png": "[encoded data removed]",
            "text/plain": [
              "<Figure size 432x288 with 1 Axes>"
            ]
          },
          "metadata": {
            "needs_background": "light"
          },
          "output_type": "display_data"
        }
      ],
      "source": [
        "df.groupby('Occupation').Purchase.sum().plot(kind='bar') \n",
        "plt.show()"
      ]
    },
    {
      "cell_type": "code",
      "execution_count": null,
      "id": "03b5e2ea",
      "metadata": {
        "id": "03b5e2ea",
        "outputId": "f23be53a-babb-4353-f25d-73970245a59d"
      },
      "outputs": [
        {
          "data": {
            "image/png": "[encoded data removed]",
            "text/plain": [
              "<Figure size 432x288 with 1 Axes>"
            ]
          },
          "metadata": {
            "needs_background": "light"
          },
          "output_type": "display_data"
        }
      ],
      "source": [
        "summary = df.groupby('Occupation').Purchase.sum() \n",
        "plt.bar(x=summary.index , height=summary.values) \n",
        "plt.show()"
      ]
    },
    {
      "cell_type": "code",
      "execution_count": null,
      "id": "dc97b391",
      "metadata": {
        "id": "dc97b391",
        "outputId": "300253ac-7988-41c2-97ce-d3c4f26dcf06"
      },
      "outputs": [
        {
          "data": {
            "image/png": "[encoded data removed]",
            "text/plain": [
              "<Figure size 432x288 with 1 Axes>"
            ]
          },
          "metadata": {
            "needs_background": "light"
          },
          "output_type": "display_data"
        }
      ],
      "source": [
        "sns.barplot(x=summary.index , y=summary.values) \n",
        "plt.show()"
      ]
    },
    {
      "cell_type": "markdown",
      "id": "c6f19557",
      "metadata": {
        "id": "c6f19557"
      },
      "source": [
        "Comparação entre compra e idade: gráfico de linhas"
      ]
    },
    {
      "cell_type": "code",
      "execution_count": null,
      "id": "df5e47af",
      "metadata": {
        "id": "df5e47af",
        "outputId": "55f68a42-027a-459b-f41f-dd5523c802b1"
      },
      "outputs": [
        {
          "data": {
            "image/png": "[encoded data removed]",
            "text/plain": [
              "<Figure size 432x288 with 1 Axes>"
            ]
          },
          "metadata": {
            "needs_background": "light"
          },
          "output_type": "display_data"
        }
      ],
      "source": [
        "df.groupby('Age').Purchase.sum().plot(kind='line') \n",
        "plt.show()"
      ]
    },
    {
      "cell_type": "markdown",
      "id": "a66df759",
      "metadata": {
        "id": "a66df759"
      },
      "source": [
        "Composição da compra por gênero: gráfico de pizza"
      ]
    },
    {
      "cell_type": "code",
      "execution_count": null,
      "id": "10a44de4",
      "metadata": {
        "id": "10a44de4",
        "outputId": "c826e9aa-6d2c-41d6-c2b0-38555463b68f"
      },
      "outputs": [
        {
          "data": {
            "image/png": "[encoded data removed]",
            "text/plain": [
              "<Figure size 432x288 with 1 Axes>"
            ]
          },
          "metadata": {},
          "output_type": "display_data"
        }
      ],
      "source": [
        "df.groupby('Gender').Purchase.sum().plot(kind='pie') \n",
        "plt.show()"
      ]
    },
    {
      "cell_type": "markdown",
      "id": "26cad924",
      "metadata": {
        "id": "26cad924"
      },
      "source": [
        "Comparação entre Compra e Cidade_Categoria: gráfico de área"
      ]
    },
    {
      "cell_type": "code",
      "execution_count": null,
      "id": "1cab413c",
      "metadata": {
        "id": "1cab413c",
        "outputId": "21e79873-cd96-47ca-bf99-87e02bd40103"
      },
      "outputs": [
        {
          "data": {
            "image/png": "[encoded data removed]",
            "text/plain": [
              "<Figure size 432x288 with 1 Axes>"
            ]
          },
          "metadata": {
            "needs_background": "light"
          },
          "output_type": "display_data"
        }
      ],
      "source": [
        "df.groupby('City_Category').Purchase.sum().plot(kind='area') \n",
        "plt.show()"
      ]
    },
    {
      "cell_type": "markdown",
      "id": "ba6a2d59",
      "metadata": {
        "id": "ba6a2d59"
      },
      "source": [
        "Comparação entre Compra e Stay_In_Current_City_Years: gráfico de barras horizontais"
      ]
    },
    {
      "cell_type": "code",
      "execution_count": null,
      "id": "e0c30ea8",
      "metadata": {
        "id": "e0c30ea8",
        "outputId": "5732e8ce-ec93-4f90-f6fc-1fb527c58c91"
      },
      "outputs": [
        {
          "data": {
            "image/png": "[encoded data removed]",
            "text/plain": [
              "<Figure size 432x288 with 1 Axes>"
            ]
          },
          "metadata": {
            "needs_background": "light"
          },
          "output_type": "display_data"
        }
      ],
      "source": [
        "df.groupby('Stay_In_Current_City_Years').Purchase.sum().plot(kind='barh') \n",
        "plt.show()"
      ]
    },
    {
      "cell_type": "markdown",
      "id": "0192f1ae",
      "metadata": {
        "id": "0192f1ae"
      },
      "source": [
        "Comparação entre Compra e Status_conjugal"
      ]
    },
    {
      "cell_type": "code",
      "execution_count": null,
      "id": "419ef99c",
      "metadata": {
        "id": "419ef99c",
        "outputId": "738c8da6-7103-4dc7-ea21-e5c29dfe7577"
      },
      "outputs": [
        {
          "data": {
            "image/png": "[encoded data removed]",
            "text/plain": [
              "<Figure size 432x288 with 1 Axes>"
            ]
          },
          "metadata": {
            "needs_background": "light"
          },
          "output_type": "display_data"
        }
      ],
      "source": [
        "sns.boxplot(x='Marital_Status',y='Purchase',data=df) \n",
        "plt.show()"
      ]
    },
    {
      "cell_type": "markdown",
      "id": "1531f9a3",
      "metadata": {
        "id": "1531f9a3"
      },
      "source": [
        "Categórico e Categórico:  Para ver a relação entre as 2 variáveis, criamos uma crosstab e um mapa de calor no topo.\n",
        "\n",
        "Relação entre Idade e Gênero :  Criando uma crosstab mostrando a data para Idade e Gênero"
      ]
    },
    {
      "cell_type": "code",
      "execution_count": null,
      "id": "6f2fbf05",
      "metadata": {
        "id": "6f2fbf05",
        "outputId": "c6bf2f85-e04d-4aff-c93b-1bbed934216b"
      },
      "outputs": [
        {
          "data": {
            "text/html": [
              "<div>\n",
              "<style scoped>\n",
              "    .dataframe tbody tr th:only-of-type {\n",
              "        vertical-align: middle;\n",
              "    }\n",
              "\n",
              "    .dataframe tbody tr th {\n",
              "        vertical-align: top;\n",
              "    }\n",
              "\n",
              "    .dataframe thead th {\n",
              "        text-align: right;\n",
              "    }\n",
              "</style>\n",
              "<table border=\"1\" class=\"dataframe\">\n",
              "  <thead>\n",
              "    <tr style=\"text-align: right;\">\n",
              "      <th>Gender</th>\n",
              "      <th>F</th>\n",
              "      <th>M</th>\n",
              "    </tr>\n",
              "    <tr>\n",
              "      <th>Age</th>\n",
              "      <th></th>\n",
              "      <th></th>\n",
              "    </tr>\n",
              "  </thead>\n",
              "  <tbody>\n",
              "    <tr>\n",
              "      <th>0-17</th>\n",
              "      <td>5083</td>\n",
              "      <td>10019</td>\n",
              "    </tr>\n",
              "    <tr>\n",
              "      <th>18-25</th>\n",
              "      <td>24628</td>\n",
              "      <td>75032</td>\n",
              "    </tr>\n",
              "    <tr>\n",
              "      <th>26-35</th>\n",
              "      <td>50752</td>\n",
              "      <td>168835</td>\n",
              "    </tr>\n",
              "    <tr>\n",
              "      <th>36-45</th>\n",
              "      <td>27170</td>\n",
              "      <td>82843</td>\n",
              "    </tr>\n",
              "    <tr>\n",
              "      <th>46-50</th>\n",
              "      <td>13199</td>\n",
              "      <td>32502</td>\n",
              "    </tr>\n",
              "    <tr>\n",
              "      <th>51-55</th>\n",
              "      <td>9894</td>\n",
              "      <td>28607</td>\n",
              "    </tr>\n",
              "    <tr>\n",
              "      <th>55+</th>\n",
              "      <td>5083</td>\n",
              "      <td>16421</td>\n",
              "    </tr>\n",
              "  </tbody>\n",
              "</table>\n",
              "</div>"
            ],
            "text/plain": [
              "Gender      F       M\n",
              "Age                  \n",
              "0-17     5083   10019\n",
              "18-25   24628   75032\n",
              "26-35   50752  168835\n",
              "36-45   27170   82843\n",
              "46-50   13199   32502\n",
              "51-55    9894   28607\n",
              "55+      5083   16421"
            ]
          },
          "execution_count": 69,
          "metadata": {},
          "output_type": "execute_result"
        }
      ],
      "source": [
        "pd.crosstab(df.Age,df.Gender)"
      ]
    },
    {
      "cell_type": "markdown",
      "id": "2c8ee29d",
      "metadata": {
        "id": "2c8ee29d"
      },
      "source": [
        "Heatmap : Criando um Heat Map na parte superior da crosstab."
      ]
    },
    {
      "cell_type": "code",
      "execution_count": null,
      "id": "df724a9c",
      "metadata": {
        "id": "df724a9c",
        "outputId": "c8cfbc4a-cc77-440e-df5c-ac4cd9b048d8"
      },
      "outputs": [
        {
          "data": {
            "image/png": "[encoded data removed]",
            "text/plain": [
              "<Figure size 432x288 with 2 Axes>"
            ]
          },
          "metadata": {
            "needs_background": "light"
          },
          "output_type": "display_data"
        }
      ],
      "source": [
        "sns.heatmap(pd.crosstab(df.Age,df.Gender)) \n",
        "plt.show()"
      ]
    },
    {
      "cell_type": "markdown",
      "id": "658a6046",
      "metadata": {
        "id": "658a6046"
      },
      "source": [
        "Relação entre City_Category e Stay_In_Current_City_Years"
      ]
    },
    {
      "cell_type": "code",
      "execution_count": null,
      "id": "339c4235",
      "metadata": {
        "id": "339c4235",
        "outputId": "8daacb82-22ef-46bd-fe12-251de10782ef"
      },
      "outputs": [
        {
          "data": {
            "image/png": "[encoded data removed]",
            "text/plain": [
              "<Figure size 432x288 with 2 Axes>"
            ]
          },
          "metadata": {
            "needs_background": "light"
          },
          "output_type": "display_data"
        }
      ],
      "source": [
        "sns.heatmap(pd.crosstab(df.City_Category,df.Stay_In_Current_City_Years)) \n",
        "plt.show()"
      ]
    },
    {
      "cell_type": "markdown",
      "id": "a608d15a",
      "metadata": {
        "id": "a608d15a"
      },
      "source": [
        "## Conclusão\n",
        "\n",
        "Nesta Análise pegamos um conjunto de dados de amostra e realizamos uma análise exploratória de dados usando a linguagem de programação Python usando o Pandas DataFrame. No entanto, esta foi apenas uma ideia básica de como o EDA é feito, você pode definitivamente explorá-lo o quanto quiser e tentar executar as etapas em conjuntos de dados maiores também."
      ]
    },
    {
      "cell_type": "code",
      "execution_count": null,
      "id": "a28c0a1c",
      "metadata": {
        "id": "a28c0a1c"
      },
      "outputs": [],
      "source": [
        ""
      ]
    }
  ],
  "metadata": {
    "kernelspec": {
      "display_name": "Python 3",
      "language": "python",
      "name": "python3"
    },
    "language_info": {
      "codemirror_mode": {
        "name": "ipython",
        "version": 3
      },
      "file_extension": ".py",
      "mimetype": "text/x-python",
      "name": "python",
      "nbconvert_exporter": "python",
      "pygments_lexer": "ipython3",
      "version": "3.8.8"
    },
    "colab": {
      "name": "VIDA_EDA_Completo.ipynb",
      "provenance": [],
      "include_colab_link": true
    }
  },
  "nbformat": 4,
  "nbformat_minor": 5
}